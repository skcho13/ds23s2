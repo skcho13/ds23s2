{
 "cells": [
  {
   "cell_type": "raw",
   "metadata": {},
   "source": [
    "---\n",
    "title: Subsetting\n",
    "subtitle: R for Data Science by Wickham & Grolemund\n",
    "date: Feb 11, 2023\n",
    "author: Sungkyun Cho\n",
    "---"
   ]
  },
  {
   "cell_type": "code",
   "execution_count": 1,
   "metadata": {},
   "outputs": [],
   "source": [
    "#| code-summary: Load Packages\n",
    "#| code-fold: true\n",
    "\n",
    "# numerical calculation & data frames\n",
    "import numpy as np\n",
    "import pandas as pd\n",
    "\n",
    "# visualization\n",
    "import matplotlib.pyplot as plt\n",
    "import seaborn as sns\n",
    "import seaborn.objects as so\n",
    "\n",
    "# statistics\n",
    "import statsmodels.api as sm"
   ]
  },
  {
   "cell_type": "code",
   "execution_count": 2,
   "metadata": {},
   "outputs": [],
   "source": [
    "#| echo: false\n",
    "from IPython.display import display, HTML\n",
    "HTML('<style>.output {flex-direction: row;}</style>')\n",
    "pd.options.display.notebook_repr_html = False"
   ]
  },
  {
   "cell_type": "code",
   "execution_count": 3,
   "metadata": {},
   "outputs": [],
   "source": [
    "#| code-summary: Options\n",
    "#| code-fold: true\n",
    "\n",
    "# pandas options\n",
    "pd.options.display.precision = 2\n",
    "pd.options.display.float_format = '{:.2f}'.format  # pd.reset_option('display.float_format')\n",
    "pd.options.display.max_rows = 7\n",
    "\n",
    "# Numpy options\n",
    "np.set_printoptions(precision = 2, suppress=True)"
   ]
  },
  {
   "attachments": {},
   "cell_type": "markdown",
   "metadata": {},
   "source": [
    "Data: *On-time data for all flights that departed NYC (i.e. JFK, LGA or EWR) in 2013*"
   ]
  },
  {
   "cell_type": "code",
   "execution_count": 4,
   "metadata": {},
   "outputs": [],
   "source": [
    "# import the dataset\n",
    "flights_data = sm.datasets.get_rdataset(\"flights\", \"nycflights13\")\n",
    "flights = flights_data.data\n",
    "flights = flights.drop(columns=\"time_hour\") # drop the \"time_hour\" column"
   ]
  },
  {
   "cell_type": "code",
   "execution_count": 13,
   "metadata": {},
   "outputs": [
    {
     "name": "stdout",
     "output_type": "stream",
     "text": [
      ".. container::\n",
      "\n",
      "   ======= ===============\n",
      "   flights R Documentation\n",
      "   ======= ===============\n",
      "\n",
      "   .. rubric:: Flights data\n",
      "      :name: flights-data\n",
      "\n",
      "   .. rubric:: Description\n",
      "      :name: description\n",
      "\n",
      "   On-time data for all flights that departed NYC (i.e. JFK, LGA or EWR)\n",
      "   in 2013.\n",
      "\n",
      "   .. rubric:: Usage\n",
      "      :name: usage\n",
      "\n",
      "   ::\n",
      "\n",
      "      flights\n",
      "\n",
      "   .. rubric:: Format\n",
      "      :name: format\n",
      "\n",
      "   Data frame with columns\n",
      "\n",
      "   year, month, day\n",
      "      Date of departure.\n",
      "\n",
      "   dep_time, arr_time\n",
      "      Actual departure and arrival times (format HHMM or HMM), local tz.\n",
      "\n",
      "   sched_dep_time, sched_arr_time\n",
      "      Scheduled departure and arrival times (format HHMM or HMM), local\n",
      "      tz.\n",
      "\n",
      "   dep_delay, arr_delay\n",
      "      Departure and arrival delays, in minutes. Negative times represent\n",
      "      early departures/arrivals.\n",
      "\n",
      "   carrier\n",
      "      Two letter carrier abbreviation. See ``airlines`` to get name.\n",
      "\n",
      "   flight\n",
      "      Flight number.\n",
      "\n",
      "   tailnum\n",
      "      Plane tail number. See ``planes`` for additional metadata.\n",
      "\n",
      "   origin, dest\n",
      "      Origin and destination. See ``airports`` for additional metadata.\n",
      "\n",
      "   air_time\n",
      "      Amount of time spent in the air, in minutes.\n",
      "\n",
      "   distance\n",
      "      Distance between airports, in miles.\n",
      "\n",
      "   hour, minute\n",
      "      Time of scheduled departure broken into hour and minutes.\n",
      "\n",
      "   time_hour\n",
      "      Scheduled date and hour of the flight as a ``POSIXct`` date. Along\n",
      "      with ``origin``, can be used to join flights data to ``weather``\n",
      "      data.\n",
      "\n",
      "   .. rubric:: Source\n",
      "      :name: source\n",
      "\n",
      "   RITA, Bureau of transportation statistics,\n",
      "   https://www.transtats.bts.gov/DL_SelectFields.asp?Table_ID=236\n",
      "\n"
     ]
    }
   ],
   "source": [
    "#| output: false\n",
    "# Description\n",
    "print(flights_data.__doc__)"
   ]
  },
  {
   "cell_type": "code",
   "execution_count": 14,
   "metadata": {},
   "outputs": [
    {
     "data": {
      "text/plain": [
       "        year  month  day  dep_time  sched_dep_time  dep_delay  arr_time  \\\n",
       "0       2013      1    1    517.00             515       2.00    830.00   \n",
       "1       2013      1    1    533.00             529       4.00    850.00   \n",
       "2       2013      1    1    542.00             540       2.00    923.00   \n",
       "...      ...    ...  ...       ...             ...        ...       ...   \n",
       "336773  2013      9   30       NaN            1210        NaN       NaN   \n",
       "336774  2013      9   30       NaN            1159        NaN       NaN   \n",
       "336775  2013      9   30       NaN             840        NaN       NaN   \n",
       "\n",
       "        sched_arr_time  arr_delay carrier  flight tailnum origin dest  \\\n",
       "0                  819      11.00      UA    1545  N14228    EWR  IAH   \n",
       "1                  830      20.00      UA    1714  N24211    LGA  IAH   \n",
       "2                  850      33.00      AA    1141  N619AA    JFK  MIA   \n",
       "...                ...        ...     ...     ...     ...    ...  ...   \n",
       "336773            1330        NaN      MQ    3461  N535MQ    LGA  BNA   \n",
       "336774            1344        NaN      MQ    3572  N511MQ    LGA  CLE   \n",
       "336775            1020        NaN      MQ    3531  N839MQ    LGA  RDU   \n",
       "\n",
       "        air_time  distance  hour  minute  \n",
       "0         227.00      1400     5      15  \n",
       "1         227.00      1416     5      29  \n",
       "2         160.00      1089     5      40  \n",
       "...          ...       ...   ...     ...  \n",
       "336773       NaN       764    12      10  \n",
       "336774       NaN       419    11      59  \n",
       "336775       NaN       431     8      40  \n",
       "\n",
       "[336776 rows x 18 columns]"
      ]
     },
     "execution_count": 14,
     "metadata": {},
     "output_type": "execute_result"
    }
   ],
   "source": [
    "flights"
   ]
  },
  {
   "attachments": {},
   "cell_type": "markdown",
   "metadata": {},
   "source": [
    "  <br />\n",
    "  **Subsetting options**\n",
    "\n",
    "- Bracket []\n",
    "- Dot-notation .\n",
    "- iloc\n",
    "- loc"
   ]
  },
  {
   "attachments": {},
   "cell_type": "markdown",
   "metadata": {},
   "source": [
    "## Bracket [ ]"
   ]
  },
  {
   "attachments": {},
   "cell_type": "markdown",
   "metadata": {},
   "source": [
    "*Bracket안에 **labels**이 있는 경우 **columns**을 select*\n",
    "\n",
    "- A single string: Series로 반환  \n",
    "- A list of a single string: DataFrame으로 반환  \n",
    "- A list of strings"
   ]
  },
  {
   "cell_type": "code",
   "execution_count": 15,
   "metadata": {},
   "outputs": [
    {
     "data": {
      "text/plain": [
       "0         IAH\n",
       "1         IAH\n",
       "2         MIA\n",
       "         ... \n",
       "336773    BNA\n",
       "336774    CLE\n",
       "336775    RDU\n",
       "Name: dest, Length: 336776, dtype: object"
      ]
     },
     "execution_count": 15,
     "metadata": {},
     "output_type": "execute_result"
    }
   ],
   "source": [
    "flights['dest'] # return as a Series"
   ]
  },
  {
   "cell_type": "code",
   "execution_count": 16,
   "metadata": {},
   "outputs": [
    {
     "data": {
      "text/plain": [
       "       dest\n",
       "0       IAH\n",
       "1       IAH\n",
       "2       MIA\n",
       "...     ...\n",
       "336773  BNA\n",
       "336774  CLE\n",
       "336775  RDU\n",
       "\n",
       "[336776 rows x 1 columns]"
      ]
     },
     "execution_count": 16,
     "metadata": {},
     "output_type": "execute_result"
    }
   ],
   "source": [
    "flights[['dest']] # return as a DataFrame"
   ]
  },
  {
   "cell_type": "code",
   "execution_count": null,
   "metadata": {},
   "outputs": [],
   "source": []
  },
  {
   "cell_type": "code",
   "execution_count": 17,
   "metadata": {},
   "outputs": [
    {
     "data": {
      "text/plain": [
       "       origin dest\n",
       "0         EWR  IAH\n",
       "1         LGA  IAH\n",
       "2         JFK  MIA\n",
       "...       ...  ...\n",
       "336773    LGA  BNA\n",
       "336774    LGA  CLE\n",
       "336775    LGA  RDU\n",
       "\n",
       "[336776 rows x 2 columns]"
      ]
     },
     "execution_count": 17,
     "metadata": {},
     "output_type": "execute_result"
    }
   ],
   "source": [
    "flights[['origin', 'dest']]"
   ]
  },
  {
   "attachments": {},
   "cell_type": "markdown",
   "metadata": {},
   "source": [
    "*Bracket안에 **numbers**가 있는 경우 **rows**를 select - position-based*\n",
    "\n",
    "- Slicing만 허용\n",
    "- First index는 포함, last index는 제외\n",
    "- [1, 5, 8]과 같이 특정 rows를 선택하는 것은 허용안됨"
   ]
  },
  {
   "cell_type": "code",
   "execution_count": 18,
   "metadata": {},
   "outputs": [
    {
     "data": {
      "text/plain": [
       "   year  month  day  dep_time  sched_dep_time  dep_delay  arr_time  \\\n",
       "2  2013      1    1    542.00             540       2.00    923.00   \n",
       "3  2013      1    1    544.00             545      -1.00   1004.00   \n",
       "4  2013      1    1    554.00             600      -6.00    812.00   \n",
       "\n",
       "   sched_arr_time  arr_delay carrier  flight tailnum origin dest  air_time  \\\n",
       "2             850      33.00      AA    1141  N619AA    JFK  MIA    160.00   \n",
       "3            1022     -18.00      B6     725  N804JB    JFK  BQN    183.00   \n",
       "4             837     -25.00      DL     461  N668DN    LGA  ATL    116.00   \n",
       "\n",
       "   distance  hour  minute  \n",
       "2      1089     5      40  \n",
       "3      1576     5      45  \n",
       "4       762     6       0  "
      ]
     },
     "execution_count": 18,
     "metadata": {},
     "output_type": "execute_result"
    }
   ],
   "source": [
    "flights[2:5]"
   ]
  },
  {
   "attachments": {},
   "cell_type": "markdown",
   "metadata": {},
   "source": [
    "<br />\n",
    "만약, 아래와 같이 index가 number일 때 out of order가 된 경우에도 row position으로 적용됨"
   ]
  },
  {
   "cell_type": "code",
   "execution_count": 19,
   "metadata": {},
   "outputs": [
    {
     "data": {
      "text/plain": [
       "   origin dest  arr_delay\n",
       "42    LGA  DFW      48.00\n",
       "2     JFK  MIA      33.00\n",
       "25    EWR  ORD      32.00\n",
       "14    LGA  DFW      31.00\n",
       "33    EWR  MSP      29.00"
      ]
     },
     "execution_count": 19,
     "metadata": {},
     "output_type": "execute_result"
    }
   ],
   "source": [
    "#| echo: false\n",
    "df_outoforder = flights[:50][[\"origin\", \"dest\", \"arr_delay\"]].nlargest(5, \"arr_delay\")\n",
    "df_outoforder"
   ]
  },
  {
   "cell_type": "code",
   "execution_count": 20,
   "metadata": {},
   "outputs": [
    {
     "data": {
      "text/plain": [
       "   origin dest  arr_delay\n",
       "25    EWR  ORD      32.00\n",
       "14    LGA  DFW      31.00"
      ]
     },
     "execution_count": 20,
     "metadata": {},
     "output_type": "execute_result"
    }
   ],
   "source": [
    "df_outoforder[2:4]"
   ]
  },
  {
   "attachments": {},
   "cell_type": "markdown",
   "metadata": {},
   "source": [
    "<br />\n",
    "*Chaining with brackets*"
   ]
  },
  {
   "cell_type": "code",
   "execution_count": 21,
   "metadata": {},
   "outputs": [
    {
     "data": {
      "text/plain": [
       "  origin dest\n",
       "2    JFK  MIA\n",
       "3    JFK  BQN\n",
       "4    LGA  ATL"
      ]
     },
     "execution_count": 21,
     "metadata": {},
     "output_type": "execute_result"
    }
   ],
   "source": [
    "flights[['origin', 'dest']][2:5]\n",
    "# 순서 바꿔어도 동일: flights[2:5][['origin', 'dest']]"
   ]
  },
  {
   "attachments": {},
   "cell_type": "markdown",
   "metadata": {},
   "source": [
    "## Dot notation .\n",
    "편리하나 주의해서 사용할 필요가 있음  "
   ]
  },
  {
   "attachments": {},
   "cell_type": "markdown",
   "metadata": {},
   "source": [
    "::: {.callout-note}\n",
    "- *space* 또는 *.* 이 있는 변수명 사용 불가\n",
    "- methods와 동일한 이름의 변수명 사용 불가: 예) 변수명이 `count`인 경우 `df.count`는 `df`의 method로 인식\n",
    "- 새로운 변수를 만들어 값을 assgin할 수 없음: 예) `df.new_var = 1` 불가, 대신 `df[\"new_var\"] = 1`\n",
    "- 만약, 다음과 같이 변수을 지정했을 때 `vars_names=[\"origin\", \"dest\"]`,\n",
    "  - `df[vars_names]`는 `\"orign\"`과 `\"dest\"` columns을 선택\n",
    "  - `df.vars_names`는 `vars_names`이라는 이름의 column을 의미\n",
    ":::"
   ]
  },
  {
   "cell_type": "code",
   "execution_count": 22,
   "metadata": {},
   "outputs": [
    {
     "data": {
      "text/plain": [
       "0         IAH\n",
       "1         IAH\n",
       "2         MIA\n",
       "         ... \n",
       "336773    BNA\n",
       "336774    CLE\n",
       "336775    RDU\n",
       "Name: dest, Length: 336776, dtype: object"
      ]
     },
     "execution_count": 22,
     "metadata": {},
     "output_type": "execute_result"
    }
   ],
   "source": [
    "flights.dest # flihgts[\"dest\"]와 동일"
   ]
  },
  {
   "attachments": {},
   "cell_type": "markdown",
   "metadata": {},
   "source": [
    "## .loc & .iloc\n",
    "각각 location, integer location의 약자  \n",
    "`df.(i)loc[row_indexer, column_indexer]`"
   ]
  },
  {
   "attachments": {},
   "cell_type": "markdown",
   "metadata": {},
   "source": [
    "### .loc: label-based indexing\n",
    "- Index가 number인 경우도 label로 처리\n",
    "- Slicing의 경우 first, last index 모두 inclusive"
   ]
  },
  {
   "cell_type": "code",
   "execution_count": 23,
   "metadata": {},
   "outputs": [
    {
     "data": {
      "text/plain": [
       "  origin dest\n",
       "2    JFK  MIA\n",
       "3    JFK  BQN\n",
       "4    LGA  ATL\n",
       "5    EWR  ORD"
      ]
     },
     "execution_count": 23,
     "metadata": {},
     "output_type": "execute_result"
    }
   ],
   "source": [
    "flights.loc[2:5, ['origin', 'dest']] # 2:5는 index의 label, not position"
   ]
  },
  {
   "attachments": {},
   "cell_type": "markdown",
   "metadata": {},
   "source": [
    "다음과 같이 index가 labels인 경우는 혼동의 염려 없음"
   ]
  },
  {
   "cell_type": "code",
   "execution_count": 24,
   "metadata": {},
   "outputs": [
    {
     "data": {
      "text/plain": [
       "       origin dest\n",
       "red       JFK  MIA\n",
       "blue      JFK  BQN\n",
       "green     LGA  ATL\n",
       "yellow    EWR  ORD"
      ]
     },
     "execution_count": 24,
     "metadata": {},
     "output_type": "execute_result"
    }
   ],
   "source": [
    "#| echo: false\n",
    "df_labels = flights.loc[2:5, ['origin', 'dest']]\n",
    "df_labels.index = pd.Index([\"red\", \"blue\", \"green\", \"yellow\"])\n",
    "df_labels"
   ]
  },
  {
   "cell_type": "code",
   "execution_count": 25,
   "metadata": {},
   "outputs": [
    {
     "data": {
      "text/plain": [
       "      origin dest\n",
       "blue     JFK  BQN\n",
       "green    LGA  ATL"
      ]
     },
     "execution_count": 25,
     "metadata": {},
     "output_type": "execute_result"
    }
   ],
   "source": [
    "df_labels.loc[\"blue\":\"green\", :]"
   ]
  },
  {
   "attachments": {},
   "cell_type": "markdown",
   "metadata": {},
   "source": [
    "하지만, index가 number인 경우는 혼동이 있음  \n",
    "앞서 본 예에서처럼 index가 out of order인 경우 loc은 다르게 작동"
   ]
  },
  {
   "cell_type": "code",
   "execution_count": 9,
   "metadata": {},
   "outputs": [
    {
     "data": {
      "text/plain": [
       "   origin dest  arr_delay\n",
       "42    LGA  DFW      48.00\n",
       "2     JFK  MIA      33.00\n",
       "25    EWR  ORD      32.00\n",
       "14    LGA  DFW      31.00\n",
       "33    EWR  MSP      29.00"
      ]
     },
     "execution_count": 9,
     "metadata": {},
     "output_type": "execute_result"
    }
   ],
   "source": [
    "#| echo: false\n",
    "df_outoforder = flights[:50][[\"origin\", \"dest\", \"arr_delay\"]].nlargest(5, \"arr_delay\")\n",
    "df_outoforder"
   ]
  },
  {
   "cell_type": "code",
   "execution_count": 27,
   "metadata": {},
   "outputs": [
    {
     "data": {
      "text/plain": [
       "   origin dest  arr_delay\n",
       "2     JFK  MIA      33.00\n",
       "25    EWR  ORD      32.00\n",
       "14    LGA  DFW      31.00"
      ]
     },
     "execution_count": 27,
     "metadata": {},
     "output_type": "execute_result"
    }
   ],
   "source": [
    "df_outoforder.loc[2:14, :] # position 아님"
   ]
  },
  {
   "cell_type": "code",
   "execution_count": 28,
   "metadata": {},
   "outputs": [
    {
     "data": {
      "text/plain": [
       "   origin dest  arr_delay\n",
       "25    EWR  ORD      32.00\n",
       "33    EWR  MSP      29.00"
      ]
     },
     "execution_count": 28,
     "metadata": {},
     "output_type": "execute_result"
    }
   ],
   "source": [
    "df_outoforder.loc[[25, 33], :] # slicing이 아닌 특정 index 선택"
   ]
  },
  {
   "cell_type": "code",
   "execution_count": 29,
   "metadata": {},
   "outputs": [
    {
     "data": {
      "text/plain": [
       "2    MIA\n",
       "3    BQN\n",
       "4    ATL\n",
       "5    ORD\n",
       "Name: dest, dtype: object"
      ]
     },
     "execution_count": 29,
     "metadata": {},
     "output_type": "execute_result"
    }
   ],
   "source": [
    "flights.loc[2:5, 'dest'] # returns as a Series"
   ]
  },
  {
   "cell_type": "code",
   "execution_count": 30,
   "metadata": {},
   "outputs": [
    {
     "data": {
      "text/plain": [
       "  dest\n",
       "2  MIA\n",
       "3  BQN\n",
       "4  ATL\n",
       "5  ORD"
      ]
     },
     "execution_count": 30,
     "metadata": {},
     "output_type": "execute_result"
    }
   ],
   "source": [
    "flights.loc[2:5, ['dest']] # return as a DataFrame"
   ]
  },
  {
   "attachments": {},
   "cell_type": "markdown",
   "metadata": {},
   "source": [
    "::: {.callout-tip}\n",
    "생략\n",
    "```python\n",
    "flights.loc[2:5, :] # ':' means all\n",
    "flights.loc[2:5]\n",
    "flights.loc[2:5, ]\n",
    "```\n",
    ":::"
   ]
  },
  {
   "cell_type": "code",
   "execution_count": 5,
   "metadata": {},
   "outputs": [
    {
     "data": {
      "text/plain": [
       "year        2013\n",
       "month          1\n",
       "day            1\n",
       "            ... \n",
       "distance    1089\n",
       "hour           5\n",
       "minute        40\n",
       "Name: 2, Length: 18, dtype: object"
      ]
     },
     "execution_count": 5,
     "metadata": {},
     "output_type": "execute_result"
    }
   ],
   "source": [
    "# select a single row\n",
    "flights.loc[2, :] # returns as a Series, column names as its index"
   ]
  },
  {
   "cell_type": "code",
   "execution_count": 6,
   "metadata": {},
   "outputs": [
    {
     "data": {
      "text/plain": [
       "   year  month  day  dep_time  sched_dep_time  dep_delay  arr_time  \\\n",
       "2  2013      1    1    542.00             540       2.00    923.00   \n",
       "\n",
       "   sched_arr_time  arr_delay carrier  flight tailnum origin dest  air_time  \\\n",
       "2             850      33.00      AA    1141  N619AA    JFK  MIA    160.00   \n",
       "\n",
       "   distance  hour  minute  \n",
       "2      1089     5      40  "
      ]
     },
     "execution_count": 6,
     "metadata": {},
     "output_type": "execute_result"
    }
   ],
   "source": [
    "# select a single row\n",
    "flights.loc[[2], :] # returns as a DataFrame"
   ]
  },
  {
   "attachments": {},
   "cell_type": "markdown",
   "metadata": {},
   "source": [
    "<br />\n",
    "\n",
    "### .iloc: position-based indexing\n",
    "- Slicing의 경우 as usual: first index는 inclusive, last index는 exclusive"
   ]
  },
  {
   "cell_type": "code",
   "execution_count": 33,
   "metadata": {},
   "outputs": [
    {
     "data": {
      "text/plain": [
       "  origin dest\n",
       "2    JFK  MIA\n",
       "3    JFK  BQN\n",
       "4    LGA  ATL"
      ]
     },
     "execution_count": 33,
     "metadata": {},
     "output_type": "execute_result"
    }
   ],
   "source": [
    "flights.iloc[2:5, 12:14] # 2:5는 index의 position, last index는 미포함"
   ]
  },
  {
   "cell_type": "code",
   "execution_count": 34,
   "metadata": {},
   "outputs": [
    {
     "data": {
      "text/plain": [
       "2    JFK\n",
       "3    JFK\n",
       "4    LGA\n",
       "Name: origin, dtype: object"
      ]
     },
     "execution_count": 34,
     "metadata": {},
     "output_type": "execute_result"
    }
   ],
   "source": [
    "flights.iloc[2:5, 12] # return as a Series"
   ]
  },
  {
   "cell_type": "code",
   "execution_count": 35,
   "metadata": {},
   "outputs": [
    {
     "data": {
      "text/plain": [
       "   year  month  day  dep_time  sched_dep_time  dep_delay  arr_time  \\\n",
       "2  2013      1    1    542.00             540       2.00    923.00   \n",
       "3  2013      1    1    544.00             545      -1.00   1004.00   \n",
       "4  2013      1    1    554.00             600      -6.00    812.00   \n",
       "\n",
       "   sched_arr_time  arr_delay carrier  flight tailnum origin dest  air_time  \\\n",
       "2             850      33.00      AA    1141  N619AA    JFK  MIA    160.00   \n",
       "3            1022     -18.00      B6     725  N804JB    JFK  BQN    183.00   \n",
       "4             837     -25.00      DL     461  N668DN    LGA  ATL    116.00   \n",
       "\n",
       "   distance  hour  minute  \n",
       "2      1089     5      40  \n",
       "3      1576     5      45  \n",
       "4       762     6       0  "
      ]
     },
     "execution_count": 35,
     "metadata": {},
     "output_type": "execute_result"
    }
   ],
   "source": [
    "flights.iloc[2:5, :]\n",
    "# 다음 모두 가능\n",
    "# flights.iloc[2:5]\n",
    "# flights.iloc[2:5, ]"
   ]
  },
  {
   "cell_type": "code",
   "execution_count": 36,
   "metadata": {},
   "outputs": [
    {
     "data": {
      "text/plain": [
       "  origin\n",
       "2    JFK\n",
       "3    JFK\n",
       "4    LGA"
      ]
     },
     "execution_count": 36,
     "metadata": {},
     "output_type": "execute_result"
    }
   ],
   "source": [
    "flights.iloc[2:5, [12]] # return as a DataFrame"
   ]
  },
  {
   "cell_type": "code",
   "execution_count": 37,
   "metadata": {},
   "outputs": [
    {
     "data": {
      "text/plain": [
       "  origin dest\n",
       "2    JFK  MIA\n",
       "5    EWR  ORD\n",
       "7    LGA  IAD"
      ]
     },
     "execution_count": 37,
     "metadata": {},
     "output_type": "execute_result"
    }
   ],
   "source": [
    "flights.iloc[[2, 5, 7], 12:14] # 특정 위치의 rows 선택"
   ]
  },
  {
   "attachments": {},
   "cell_type": "markdown",
   "metadata": {},
   "source": [
    "::: {.callout-note}\n",
    "단 하나의 scalar 값을 추출할 때, 빠른 처리를 하는 다음을 사용할 수 있음  \n",
    "`.at[i, j]`, `.iat[i, j]`\n",
    ":::"
   ]
  },
  {
   "attachments": {},
   "cell_type": "markdown",
   "metadata": {},
   "source": [
    "## Series의 indexing\n",
    "DataFrame과 같은 방식으로 이해\n",
    "\n",
    "*Index가 numbers인 경우*"
   ]
  },
  {
   "cell_type": "code",
   "execution_count": 11,
   "metadata": {},
   "outputs": [
    {
     "data": {
      "text/plain": [
       "42    DFW\n",
       "2     MIA\n",
       "25    ORD\n",
       "14    DFW\n",
       "33    MSP\n",
       "Name: dest, dtype: object"
      ]
     },
     "execution_count": 11,
     "metadata": {},
     "output_type": "execute_result"
    }
   ],
   "source": [
    "#| echo: false\n",
    "s = df_outoforder[\"dest\"]\n",
    "s"
   ]
  },
  {
   "cell_type": "code",
   "execution_count": 39,
   "metadata": {},
   "outputs": [
    {
     "data": {
      "text/plain": [
       "25    ORD\n",
       "14    DFW\n",
       "Name: dest, dtype: object"
      ]
     },
     "execution_count": 39,
     "metadata": {},
     "output_type": "execute_result"
    }
   ],
   "source": [
    "s.loc[25:14]"
   ]
  },
  {
   "cell_type": "code",
   "execution_count": 40,
   "metadata": {},
   "outputs": [
    {
     "data": {
      "text/plain": [
       "25    ORD\n",
       "14    DFW\n",
       "Name: dest, dtype: object"
      ]
     },
     "execution_count": 40,
     "metadata": {},
     "output_type": "execute_result"
    }
   ],
   "source": [
    "s.iloc[2:4]"
   ]
  },
  {
   "cell_type": "code",
   "execution_count": 12,
   "metadata": {},
   "outputs": [
    {
     "data": {
      "text/plain": [
       "42    DFW\n",
       "2     MIA\n",
       "25    ORD\n",
       "Name: dest, dtype: object"
      ]
     },
     "execution_count": 12,
     "metadata": {},
     "output_type": "execute_result"
    }
   ],
   "source": [
    "s[:3]"
   ]
  },
  {
   "attachments": {},
   "cell_type": "markdown",
   "metadata": {},
   "source": [
    "::: {.callout-note}\n",
    "다음과 같은 경우 혼동스러움\n",
    "```python\n",
    "s[3] # 3번째? label 3?\n",
    "```\n",
    "#> errors occur\n",
    ":::"
   ]
  },
  {
   "attachments": {},
   "cell_type": "markdown",
   "metadata": {},
   "source": [
    "<br />\n",
    "*Index가 lables인 경우*"
   ]
  },
  {
   "cell_type": "code",
   "execution_count": 42,
   "metadata": {},
   "outputs": [
    {
     "data": {
      "text/plain": [
       "red       MIA\n",
       "blue      BQN\n",
       "green     ATL\n",
       "yellow    ORD\n",
       "Name: dest, dtype: object"
      ]
     },
     "execution_count": 42,
     "metadata": {},
     "output_type": "execute_result"
    }
   ],
   "source": [
    "#| echo: false\n",
    "s = df_labels[\"dest\"]\n",
    "s"
   ]
  },
  {
   "cell_type": "code",
   "execution_count": 43,
   "metadata": {},
   "outputs": [
    {
     "data": {
      "text/plain": [
       "red      MIA\n",
       "green    ATL\n",
       "Name: dest, dtype: object"
      ]
     },
     "execution_count": 43,
     "metadata": {},
     "output_type": "execute_result"
    }
   ],
   "source": [
    "s[[\"red\", \"green\"]]"
   ]
  },
  {
   "attachments": {},
   "cell_type": "markdown",
   "metadata": {},
   "source": [
    "## Boolean indexing\n",
    "\n",
    "- Bracket [ ] 이나 loc을 이용\n",
    "- iloc은 적용 안됨"
   ]
  },
  {
   "attachments": {},
   "cell_type": "markdown",
   "metadata": {},
   "source": [
    "### Bracket [ ]"
   ]
  },
  {
   "cell_type": "code",
   "execution_count": 15,
   "metadata": {},
   "outputs": [
    {
     "data": {
      "text/plain": [
       "    dep_delay  arr_delay origin dest\n",
       "8       -3.00      -8.00    JFK  MCO\n",
       "70       9.00      20.00    LGA  ORD\n",
       "82      -1.00     -26.00    JFK  SFO\n",
       "28       0.00     -21.00    JFK  SJU\n",
       "63      -2.00       2.00    JFK  LAX\n",
       "0        2.00      11.00    EWR  IAH"
      ]
     },
     "execution_count": 15,
     "metadata": {},
     "output_type": "execute_result"
    }
   ],
   "source": [
    "np.random.seed(123)\n",
    "flights_6 = flights[:100][[\"dep_delay\", \"arr_delay\", \"origin\", \"dest\"]].sample(6)\n",
    "flights_6"
   ]
  },
  {
   "cell_type": "code",
   "execution_count": 16,
   "metadata": {},
   "outputs": [
    {
     "data": {
      "text/plain": [
       "    dep_delay  arr_delay origin dest\n",
       "8       -3.00      -8.00    JFK  MCO\n",
       "82      -1.00     -26.00    JFK  SFO\n",
       "63      -2.00       2.00    JFK  LAX"
      ]
     },
     "execution_count": 16,
     "metadata": {},
     "output_type": "execute_result"
    }
   ],
   "source": [
    "flights_6[flights_6[\"dep_delay\"] < 0]"
   ]
  },
  {
   "cell_type": "code",
   "execution_count": 17,
   "metadata": {},
   "outputs": [
    {
     "data": {
      "text/plain": [
       "8      True\n",
       "70    False\n",
       "82     True\n",
       "28    False\n",
       "63     True\n",
       "0     False\n",
       "Name: dep_delay, dtype: bool"
      ]
     },
     "execution_count": 17,
     "metadata": {},
     "output_type": "execute_result"
    }
   ],
   "source": [
    "idx = flights_6[\"dep_delay\"] < 0\n",
    "idx # bool type의 Series"
   ]
  },
  {
   "cell_type": "code",
   "execution_count": 18,
   "metadata": {},
   "outputs": [
    {
     "data": {
      "text/plain": [
       "8     MCO\n",
       "82    SFO\n",
       "63    LAX\n",
       "Name: dest, dtype: object"
      ]
     },
     "execution_count": 18,
     "metadata": {},
     "output_type": "execute_result"
    }
   ],
   "source": [
    "# Select a column with the boolean indexing\n",
    "flights_6[idx][\"dest\"]"
   ]
  },
  {
   "attachments": {},
   "cell_type": "markdown",
   "metadata": {},
   "source": [
    "::: {.callout-note}\n",
    "사실, boolean indexing을 할때, DataFrame/Series의 index와 match함  \n",
    "대부분 염려하지 않아도 되나 다음과 같은 결과 참고\n",
    "\n",
    "```python\n",
    "# Reset index\n",
    "idx_reset = idx.reset_index(drop=True)\n",
    "# 0     True\n",
    "# 1    False\n",
    "# 2     True\n",
    "# 3    False\n",
    "# 4     True\n",
    "# 5    False\n",
    "# Name: dep_delay, dtype: bool\n",
    "\n",
    "flights_6[idx_reset][\"dest\"]\n",
    "#> IndexingError: Unalignable boolean Series provided as indexer \n",
    "#> (index of the boolean Series and of the indexed object do not match)\n",
    "\n",
    "# Index가 없는 numpy array로 boolean indexing을 하는 경우 문제없음\n",
    "flights_6[idx_reset.to_numpy()][\"dest\"]\n",
    "# 8     MCO\n",
    "# 82    SFO\n",
    "# 63    LAX\n",
    "# Name: dest, dtype: object\n",
    "\n",
    "```\n",
    ":::"
   ]
  },
  {
   "cell_type": "code",
   "execution_count": 28,
   "metadata": {},
   "outputs": [
    {
     "data": {
      "text/plain": [
       "    dep_delay  arr_delay\n",
       "8       False      False\n",
       "70       True       True\n",
       "82      False      False\n",
       "28      False      False\n",
       "63      False       True\n",
       "0        True       True"
      ]
     },
     "execution_count": 28,
     "metadata": {},
     "output_type": "execute_result"
    }
   ],
   "source": [
    "bool_idx = flights_6[[\"dep_delay\", \"arr_delay\"]] > 0\n",
    "bool_idx"
   ]
  },
  {
   "cell_type": "code",
   "execution_count": 31,
   "metadata": {},
   "outputs": [
    {
     "data": {
      "text/plain": [
       "8     False\n",
       "70     True\n",
       "82    False\n",
       "28    False\n",
       "63     True\n",
       "0      True\n",
       "dtype: bool"
      ]
     },
     "execution_count": 31,
     "metadata": {},
     "output_type": "execute_result"
    }
   ],
   "source": [
    "idx_any = bool_idx.any(axis=1)\n",
    "idx_any"
   ]
  },
  {
   "cell_type": "code",
   "execution_count": 52,
   "metadata": {},
   "outputs": [
    {
     "data": {
      "text/plain": [
       "8     False\n",
       "70     True\n",
       "82    False\n",
       "28    False\n",
       "63    False\n",
       "0      True\n",
       "dtype: bool"
      ]
     },
     "execution_count": 52,
     "metadata": {},
     "output_type": "execute_result"
    }
   ],
   "source": [
    "bool_idx.all(axis=1)"
   ]
  },
  {
   "attachments": {},
   "cell_type": "markdown",
   "metadata": {},
   "source": [
    "### `np.where()` 활용\n",
    "`np.where(`*boolean condition, value if True, value if False*`)`"
   ]
  },
  {
   "cell_type": "code",
   "execution_count": 50,
   "metadata": {},
   "outputs": [
    {
     "data": {
      "text/plain": [
       "    dep_delay  arr_delay origin dest  delayed\n",
       "8       -3.00      -8.00    JFK  MCO  delayed\n",
       "70       9.00      20.00    LGA  ORD  on-time\n",
       "82      -1.00     -26.00    JFK  SFO  delayed\n",
       "28       0.00     -21.00    JFK  SJU  on-time\n",
       "63      -2.00       2.00    JFK  LAX  delayed\n",
       "0        2.00      11.00    EWR  IAH  on-time"
      ]
     },
     "execution_count": 50,
     "metadata": {},
     "output_type": "execute_result"
    }
   ],
   "source": [
    "flights_6[\"delayed\"] = np.where(idx, \"delayed\", \"on-time\")\n",
    "flights_6"
   ]
  },
  {
   "cell_type": "code",
   "execution_count": 51,
   "metadata": {},
   "outputs": [
    {
     "data": {
      "text/plain": [
       "array(['T', 'T', 'S', 'S', 'T', 'T'], dtype='<U1')"
      ]
     },
     "execution_count": 51,
     "metadata": {},
     "output_type": "execute_result"
    }
   ],
   "source": [
    "np.where(flights_6[\"dest\"].str.startswith(\"S\"), \"S\", \"T\") # str method: \"S\"로 시작하는지 여부"
   ]
  },
  {
   "attachments": {},
   "cell_type": "markdown",
   "metadata": {},
   "source": [
    "### loc"
   ]
  },
  {
   "cell_type": "code",
   "execution_count": 53,
   "metadata": {},
   "outputs": [
    {
     "data": {
      "text/plain": [
       "8     MCO\n",
       "82    SFO\n",
       "63    LAX\n",
       "Name: dest, dtype: object"
      ]
     },
     "execution_count": 53,
     "metadata": {},
     "output_type": "execute_result"
    }
   ],
   "source": [
    "flights_6.loc[idx, \"dest\"] # flights_6[idx][\"dest\"]과 동일"
   ]
  },
  {
   "attachments": {},
   "cell_type": "markdown",
   "metadata": {},
   "source": [
    "만약 column 이름에 \"time\"을 포함하는 columns만 선택하고자 하면\n",
    "\n",
    "> Series/Index object는 str method 존재  \n",
    "> `str.contains()`, `str.startswith()`, `str.endswith()`\n",
    ">\n",
    "자세한 사항은 [7.4 String Manipulation/String Functions in pandas](https://wesmckinney.com/book/data-cleaning.html#text_string_manip_vectorized) by Wes McKinney"
   ]
  },
  {
   "cell_type": "code",
   "execution_count": 54,
   "metadata": {},
   "outputs": [
    {
     "data": {
      "text/plain": [
       "array([False, False, False,  True,  True, False,  True,  True, False,\n",
       "       False, False, False, False, False,  True, False, False, False])"
      ]
     },
     "execution_count": 54,
     "metadata": {},
     "output_type": "execute_result"
    }
   ],
   "source": [
    "cols = flights.columns.str.contains(\"time\") # str method: \"time\"을 포함하는지 여부\n",
    "cols"
   ]
  },
  {
   "cell_type": "code",
   "execution_count": 55,
   "metadata": {},
   "outputs": [
    {
     "data": {
      "text/plain": [
       "        dep_time  sched_dep_time  arr_time  sched_arr_time  air_time\n",
       "0         517.00             515    830.00             819    227.00\n",
       "1         533.00             529    850.00             830    227.00\n",
       "2         542.00             540    923.00             850    160.00\n",
       "...          ...             ...       ...             ...       ...\n",
       "336773       NaN            1210       NaN            1330       NaN\n",
       "336774       NaN            1159       NaN            1344       NaN\n",
       "336775       NaN             840       NaN            1020       NaN\n",
       "\n",
       "[336776 rows x 5 columns]"
      ]
     },
     "execution_count": 55,
     "metadata": {},
     "output_type": "execute_result"
    }
   ],
   "source": [
    "# Columns 쪽으로 boolean indexing\n",
    "flights.loc[:, cols]"
   ]
  },
  {
   "attachments": {},
   "cell_type": "markdown",
   "metadata": {},
   "source": [
    "::: {.callout-warning}\n",
    "\n",
    "Chained indexing으로 값을 assign하는 경우 copy vs. view 경고 메세지\n",
    "\n",
    "```python\n",
    "flights[flights[\"arr_delay\"] < 0][\"arr_delay\"] = 0\n",
    "```\n",
    "`/var/folders/mp/vcywncl97ml2q4c_5k2r573m0000gn/T/ipykernel_96692/3780864177.py:1`: SettingWithCopyWarning: \n",
    "A value is trying to be set on a copy of a slice from a DataFrame.  \n",
    "Try using .loc[row_indexer,col_indexer] = value instead\n",
    "\n",
    "See the caveats in the documentation: `https://pandas.pydata.org/pandas-docs/stable/user_guide/indexing.html#returning-a-view-versus-a-copy`\n",
    "\n",
    "<br />\n",
    "경고가 제시하는데로 .loc을 이용하여 assign\n",
    "```python\n",
    "flights.loc[flights[\"arr_delay\"] < 0, \"arr_delay\"] = 0\n",
    "```\n",
    "\n",
    ":::"
   ]
  },
  {
   "attachments": {},
   "cell_type": "markdown",
   "metadata": {},
   "source": [
    "## Summary"
   ]
  },
  {
   "attachments": {},
   "cell_type": "markdown",
   "metadata": {},
   "source": [
    "- Bracket [ ]의 경우\n",
    "  - 간단히 columns을 선택하고자 할때 column labels: `df[[\"var1\", \"var2\"]]`\n",
    "  - 간단히 rows를 선택하고자 할때 numerical indexing: `df[:10]`\n",
    "- Dot-notation은 \n",
    "  - pandas의 methods와 중복된 이름을 피하고, \n",
    "  - assignment의 왼편에는 사용을 피할 것\n",
    "- 가능하면 분명한 loc 또는 iloc을 사용\n",
    "  - `loc[:, [\"var1\", \"var2\"]]`는 `df[[\"var1\", \"var2\"]]`과 동일\n",
    "  - `iloc[:10, :]`은 `df[:10]`와 동일\n",
    "  - loc의 경우, index가 숫자라 할지라도 label로 처리됨\n",
    "  - loc은 iloc과는 다른게 first, last index 모두 inclusive\n",
    "- Boolean indexing의 경우 \n",
    "  - Bracket [ ]: `df[bool_idx]`\n",
    "  - loc: `df.loc[bool_idx, :]`\n",
    "  - iloc 불가\n",
    "- Assignment를 할때는, \n",
    "  - chained indexing을 피하고: `df[:5][\"dest\"]`\n",
    "  - loc or iloc 사용: \n",
    "    - `df.loc[:4, \"dest\"]`: index가 0부터 정렬되어 있다고 가정했을 때, slicing에서 위치 하나 차이남\n",
    "    - `df.iloc[:5, 13]`: \"dest\"의 column 위치 13\n",
    "\n",
    "- 한 개의 column 혹은 row을 선택하면 Series로 반환: `df[\"var1\"]` 또는 `df.loc[2, :]`"
   ]
  },
  {
   "attachments": {},
   "cell_type": "markdown",
   "metadata": {},
   "source": [
    "::: {.callout-note}\n",
    "Numpy의 indexing에 대해서는 교재 참고  \n",
    "Ch.4/Basic Indexing and Slicing in Python Data Analysis by Wes McKinney\n",
    ":::"
   ]
  }
 ],
 "metadata": {
  "kernelspec": {
   "display_name": "envconda",
   "language": "python",
   "name": "python3"
  },
  "language_info": {
   "codemirror_mode": {
    "name": "ipython",
    "version": 3
   },
   "file_extension": ".py",
   "mimetype": "text/x-python",
   "name": "python",
   "nbconvert_exporter": "python",
   "pygments_lexer": "ipython3",
   "version": "3.11.0"
  },
  "orig_nbformat": 4,
  "vscode": {
   "interpreter": {
    "hash": "74ad319f5187b0352e4d45e7895ccc03a7dd9505bde9d93fefd838a3430f7b7f"
   }
  }
 },
 "nbformat": 4,
 "nbformat_minor": 2
}
