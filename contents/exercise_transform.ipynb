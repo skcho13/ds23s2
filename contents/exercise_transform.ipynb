{
 "cells": [
  {
   "cell_type": "raw",
   "metadata": {},
   "source": [
    "---\n",
    "title: Exercises\n",
    "subtitle: R for Data Science by Wickham & Grolemund\n",
    "date: Feb 11, 2023\n",
    "author: Sungkyun Cho\n",
    "---"
   ]
  },
  {
   "cell_type": "code",
   "execution_count": 1,
   "metadata": {},
   "outputs": [],
   "source": [
    "#| code-summary: Load Packages\n",
    "#| code-fold: true\n",
    "\n",
    "# numerical calculation & data frames\n",
    "import numpy as np\n",
    "import pandas as pd\n",
    "\n",
    "# visualization\n",
    "import matplotlib.pyplot as plt\n",
    "import seaborn as sns\n",
    "import seaborn.objects as so\n",
    "\n",
    "# statistics\n",
    "import statsmodels.api as sm\n"
   ]
  },
  {
   "cell_type": "code",
   "execution_count": 2,
   "metadata": {},
   "outputs": [],
   "source": [
    "#| echo: false\n",
    "from IPython.display import display, HTML\n",
    "HTML('<style>.output {flex-direction: row;}</style>')\n",
    "pd.options.display.notebook_repr_html = False"
   ]
  },
  {
   "cell_type": "code",
   "execution_count": 3,
   "metadata": {},
   "outputs": [],
   "source": [
    "#| code-summary: Options\n",
    "#| code-fold: true\n",
    "\n",
    "# pandas options\n",
    "pd.set_option(\"mode.copy_on_write\", True)\n",
    "pd.options.display.precision = 2\n",
    "pd.options.display.float_format = '{:.2f}'.format  # pd.reset_option('display.float_format')\n",
    "pd.options.display.max_rows = 7\n",
    "\n",
    "# Numpy options\n",
    "np.set_printoptions(precision = 2, suppress=True)"
   ]
  },
  {
   "cell_type": "code",
   "execution_count": 4,
   "metadata": {},
   "outputs": [],
   "source": [
    "# Load the nycflight13 dataset\n",
    "flights = sm.datasets.get_rdataset(\"flights\", \"nycflights13\").data.drop(columns=\"time_hour\")"
   ]
  },
  {
   "attachments": {},
   "cell_type": "markdown",
   "metadata": {},
   "source": [
    "## A\n",
    "\n",
    "다음 조건을 만족하는 항공편을 필터링 해보세요. (1~6)\n",
    "\n",
    "1. Had an arrival delay of two or more hours\n",
    "2. Flew to Houston (`IAH` or `HOU`)\n",
    "3. Departed in summer (July, August, and September)\n",
    "4. Arrived more than two hours late, but didn’t leave late\n",
    "5. Were delayed by at least an hour, but made up over 30 minutes in flight  \n",
    "   출발할 때 예정시간보다 1시간 이상 지연되어 출발하였으나 빠르게 비행하여 출발 지연된 시간보다 도착 지연이 30분이상 단축된 항공편들입니다. (예를 들어, 1시간 늦게 출발했는데, 도착은 28분 지연된 항공편)\n",
    "6. Departed between midnight and 6am (inclusive)\n",
    "\n",
    "---\n",
    "\n",
    "7. Find the fastest flights.\n",
    "8. Sort `flights` to find the most delayed flights. Find the flights that left earliest.\n",
    "9. Which flights travelled the farthest? Which travelled the shortest?\n",
    "10. 각 도착지로 출항하는 항공편이 1년 중 몇 일 있는가?\n",
    "11. 1년 중 300일 이상 출항하는 도착지들을 구하면?\n",
    "\n",
    "## B\n",
    "\n",
    "1. Our definition of **cancelled flights** (`dep_delay` **or** `arr_delay` is missing) is slightly suboptimal. Why? Which is the most important column?\n",
    "   - 예를 들어, 출발지연은 missing이 아니나 도착지연은 missing인 것이 있음\n",
    "2. Look at the number of cancelled flights per day. Is there a pattern? Is the proportion of cancelled flights related to the (daily) average delay?\n",
    "   - 취소되는 항공편들이 많은 것과 관계 있는 것은 무엇이 있을까...\n",
    "3. What time of day should you fly if you want to avoid delays as much as possible?\n",
    "4. For each destination, compute the total minutes of delay. For each flight, compute the proportion of the total delay for its destination.\n",
    "5. Find all destinations that are flown by at least two carriers. Use that information to rank the carriers.\n",
    "   - 즉, 적어도 두 항공사가 출항하는 도착지들도 한정한 후, \n",
    "   - 다양한 곳으로 출항할수록 높은 순위의 항공사라고 보고, 항공사들의 순위를 정해봄 \n",
    "\n",
    "## C\n",
    "\n",
    "Challenges:\n",
    "\n",
    "1. Which carrier has the worst arrival delays? Challenge: can you disentangle the effects of bad airports vs. bad carriers? Why/why not?\n",
    "   - 항공사(carrier)마다 취항하는 곳에 차이가 날 수 있다면, 그건 그 노선 혹은 공항의 문제이지 항공사의 문제는 아닐 수도 있음을 암시하는 것임\n",
    "\n",
    "2. Which plane (`tailnum`) has the worst on-time record?\n",
    "   - on-time을 적절히 정의한 후에 진행; 여러 방식이 있을 수 있음\n",
    "   - 예를 들어, 늦게 도착하지 않은 항공편의 \"갯수\"로 보거나\n",
    "   - 도착지연의 평균값을 기준으로 볼 수도 있음\n",
    "\n",
    "3. Look at each destination. Can you find flights that are suspiciously fast? (i.e. flights that represent a potential data entry error).\n",
    "   \n",
    "   - 빠르게 비행한 이유: 제트 기류? 정체가 심한 공항?...\n",
    "   - 같은 루트를 비행하는 항공편들 안에서 특이점이라면 의심해 볼만함...\n",
    "   - 서로 다른 루트를 비행하는 항공편들과의 비교는?\n",
    "   - 빠르다는 것을 비교하려면 동일한 루트에서 비교해야 적절함\n",
    "   - 다른 루트의 항공편들까지 같이 비교하려면 어떤 방식이 있겠는가?\n",
    "\n",
    "4. Compute the air time of a flight relative to the shortest flight to that destination. Which flights were most delayed in the air?\n",
    "   - \"상대적\"의 의미가 값의 차이로 볼지 비율의 차이로 볼지도 고려해 볼 것\n",
    "\n",
    "5. ^\\*\\*^ For each plane, count the number of flights before the first delay of greater than 1 hour.\n",
    "   - `np.cumsum`을 활용"
   ]
  }
 ],
 "metadata": {
  "kernelspec": {
   "display_name": "envconda",
   "language": "python",
   "name": "python3"
  },
  "language_info": {
   "codemirror_mode": {
    "name": "ipython",
    "version": 3
   },
   "file_extension": ".py",
   "mimetype": "text/x-python",
   "name": "python",
   "nbconvert_exporter": "python",
   "pygments_lexer": "ipython3",
   "version": "3.11.2"
  },
  "orig_nbformat": 4
 },
 "nbformat": 4,
 "nbformat_minor": 2
}
