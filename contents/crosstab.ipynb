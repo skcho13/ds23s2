{
 "cells": [
  {
   "cell_type": "raw",
   "metadata": {},
   "source": [
    "---\n",
    "title: Cross-Tabulation and Pivot Tables\n",
    "subtitle: R for Data Science by Wickham & Grolemund\n",
    "date: Feb 11, 2023\n",
    "author: Sungkyun Cho\n",
    "---"
   ]
  },
  {
   "cell_type": "code",
   "execution_count": 2,
   "metadata": {},
   "outputs": [],
   "source": [
    "#| code-summary: Load Packages\n",
    "#| code-fold: true\n",
    "\n",
    "# numerical calculation & data frames\n",
    "import numpy as np\n",
    "import pandas as pd\n",
    "\n",
    "# visualization\n",
    "import matplotlib.pyplot as plt\n",
    "import seaborn as sns\n",
    "import seaborn.objects as so\n",
    "\n",
    "# statistics\n",
    "import statsmodels.api as sm"
   ]
  },
  {
   "cell_type": "code",
   "execution_count": 3,
   "metadata": {},
   "outputs": [],
   "source": [
    "#| echo: false\n",
    "from IPython.display import display, HTML\n",
    "HTML('<style>.output {flex-direction: row;}</style>')\n",
    "pd.options.display.notebook_repr_html = False"
   ]
  },
  {
   "cell_type": "code",
   "execution_count": 4,
   "metadata": {},
   "outputs": [],
   "source": [
    "#| code-summary: Options\n",
    "#| code-fold: true\n",
    "\n",
    "# pandas options\n",
    "pd.set_option(\"mode.copy_on_write\", True)\n",
    "pd.options.display.precision = 2\n",
    "pd.options.display.float_format = '{:.2f}'.format  # pd.reset_option('display.float_format')\n",
    "pd.options.display.max_rows = 7\n",
    "\n",
    "# Numpy options\n",
    "np.set_printoptions(precision = 2, suppress=True)"
   ]
  },
  {
   "cell_type": "code",
   "execution_count": 6,
   "metadata": {},
   "outputs": [
    {
     "data": {
      "text/plain": [
       "     total_bill  tip     sex smoker   day    time  size\n",
       "0         16.99 1.01  Female     No   Sun  Dinner     2\n",
       "1         10.34 1.66    Male     No   Sun  Dinner     3\n",
       "2         21.01 3.50    Male     No   Sun  Dinner     3\n",
       "..          ...  ...     ...    ...   ...     ...   ...\n",
       "241       22.67 2.00    Male    Yes   Sat  Dinner     2\n",
       "242       17.82 1.75    Male     No   Sat  Dinner     2\n",
       "243       18.78 3.00  Female     No  Thur  Dinner     2\n",
       "\n",
       "[244 rows x 7 columns]"
      ]
     },
     "execution_count": 6,
     "metadata": {},
     "output_type": "execute_result"
    }
   ],
   "source": [
    "# Load a datdset\n",
    "tips = sns.load_dataset(\"tips\")\n",
    "tips"
   ]
  },
  {
   "attachments": {},
   "cell_type": "markdown",
   "metadata": {},
   "source": [
    "## `pd.crosstab()`  \n",
    "두 카테고리 변수의 모든 level 쌍에 대한 count.  \n",
    "\n",
    "- `normalize`: 비율을 계산  \n",
    "- `margins`: 행과 열로 합\n",
    "\n",
    "`groupby()`를 적용해 구할 수 있으나 좀 더 간결."
   ]
  },
  {
   "cell_type": "code",
   "execution_count": 7,
   "metadata": {},
   "outputs": [
    {
     "data": {
      "text/plain": [
       "time  Lunch  Dinner\n",
       "day                \n",
       "Thur     61       1\n",
       "Fri       7      12\n",
       "Sat       0      87\n",
       "Sun       0      76"
      ]
     },
     "execution_count": 7,
     "metadata": {},
     "output_type": "execute_result"
    }
   ],
   "source": [
    "pd.crosstab(tips[\"day\"], tips[\"time\"])"
   ]
  },
  {
   "cell_type": "code",
   "execution_count": 11,
   "metadata": {},
   "outputs": [
    {
     "data": {
      "text/plain": [
       "day   time  \n",
       "Thur  Lunch     61\n",
       "      Dinner     1\n",
       "Fri   Lunch      7\n",
       "                ..\n",
       "Sat   Dinner    87\n",
       "Sun   Lunch      0\n",
       "      Dinner    76\n",
       "Length: 8, dtype: int64"
      ]
     },
     "execution_count": 11,
     "metadata": {},
     "output_type": "execute_result"
    }
   ],
   "source": [
    "tips.groupby([\"day\", \"time\"]).size()"
   ]
  },
  {
   "cell_type": "code",
   "execution_count": 12,
   "metadata": {},
   "outputs": [
    {
     "data": {
      "text/plain": [
       "time  Lunch  Dinner\n",
       "day                \n",
       "Thur     61       1\n",
       "Fri       7      12\n",
       "Sat       0      87\n",
       "Sun       0      76"
      ]
     },
     "execution_count": 12,
     "metadata": {},
     "output_type": "execute_result"
    }
   ],
   "source": [
    "tips.groupby([\"day\", \"time\"]).size().unstack()"
   ]
  },
  {
   "attachments": {},
   "cell_type": "markdown",
   "metadata": {},
   "source": [
    "Parameters\n",
    "\n",
    "- `normalize`: 비율을 계산  \n",
    "- `margins`: 행과 열로 합산"
   ]
  },
  {
   "cell_type": "code",
   "execution_count": 28,
   "metadata": {},
   "outputs": [
    {
     "data": {
      "text/plain": [
       "time  Lunch  Dinner  All\n",
       "day                     \n",
       "Thur   0.25    0.00 0.25\n",
       "Fri    0.03    0.05 0.08\n",
       "Sat    0.00    0.36 0.36\n",
       "Sun    0.00    0.31 0.31\n",
       "All    0.28    0.72 1.00"
      ]
     },
     "execution_count": 28,
     "metadata": {},
     "output_type": "execute_result"
    }
   ],
   "source": [
    "pd.crosstab(tips[\"day\"], tips[\"time\"], normalize=True, margins=True)"
   ]
  },
  {
   "attachments": {},
   "cell_type": "markdown",
   "metadata": {},
   "source": [
    "## `pivot_table()`\n",
    "\n",
    "count 대신 mean  \n",
    "mean 외에 다른 aggregation 함수를 지정할 수 있음  \n",
    "grouping을 할 변수들 (`index` and/or `columns`)과 aggregate할 변수 지정 (`values`)\n",
    "  \n",
    "- `margins`: 행과 열에 따라 합산"
   ]
  },
  {
   "cell_type": "code",
   "execution_count": 34,
   "metadata": {},
   "outputs": [
    {
     "data": {
      "text/plain": [
       "             tip\n",
       "day  time       \n",
       "Thur Lunch  2.77\n",
       "     Dinner 3.00\n",
       "Fri  Lunch  2.38\n",
       "     Dinner 2.94\n",
       "Sat  Dinner 2.99\n",
       "Sun  Dinner 3.26"
      ]
     },
     "execution_count": 34,
     "metadata": {},
     "output_type": "execute_result"
    }
   ],
   "source": [
    "# grouping을 할 변수들 (index)과 aggregate할 변수 지정\n",
    "tips.pivot_table(index=[\"day\", \"time\"], values=\"tip\") # dropna=True"
   ]
  },
  {
   "cell_type": "code",
   "execution_count": 32,
   "metadata": {},
   "outputs": [
    {
     "data": {
      "text/plain": [
       "day   time  \n",
       "Thur  Lunch    2.77\n",
       "      Dinner   3.00\n",
       "Fri   Lunch    2.38\n",
       "               ... \n",
       "Sat   Dinner   2.99\n",
       "Sun   Lunch     NaN\n",
       "      Dinner   3.26\n",
       "Name: tip, Length: 8, dtype: float64"
      ]
     },
     "execution_count": 32,
     "metadata": {},
     "output_type": "execute_result"
    }
   ],
   "source": [
    "tips.groupby([\"day\", \"time\"])[\"tip\"].mean()"
   ]
  },
  {
   "cell_type": "code",
   "execution_count": 24,
   "metadata": {},
   "outputs": [
    {
     "data": {
      "text/plain": [
       "time  Lunch  Dinner\n",
       "day                \n",
       "Thur   2.77    3.00\n",
       "Fri    2.38    2.94\n",
       "Sat     NaN    2.99\n",
       "Sun     NaN    3.26"
      ]
     },
     "execution_count": 24,
     "metadata": {},
     "output_type": "execute_result"
    }
   ],
   "source": [
    "# grouping을 할 변수들 (index & columns)과 aggregate할 변수 지정\n",
    "tips.pivot_table(index=\"day\", columns=\"time\", values=\"tip\")"
   ]
  },
  {
   "cell_type": "code",
   "execution_count": 35,
   "metadata": {},
   "outputs": [
    {
     "data": {
      "text/plain": [
       "time  Lunch  Dinner\n",
       "day                \n",
       "Thur   2.77    3.00\n",
       "Fri    2.38    2.94\n",
       "Sat     NaN    2.99\n",
       "Sun     NaN    3.26"
      ]
     },
     "execution_count": 35,
     "metadata": {},
     "output_type": "execute_result"
    }
   ],
   "source": [
    "# groupby를 이용\n",
    "tips.groupby([\"day\", \"time\"])[\"tip\"].mean().unstack()"
   ]
  },
  {
   "cell_type": "code",
   "execution_count": 25,
   "metadata": {},
   "outputs": [
    {
     "data": {
      "text/plain": [
       "       tip        total_bill       \n",
       "time Lunch Dinner      Lunch Dinner\n",
       "day                                \n",
       "Thur  2.77   3.00      17.66  18.78\n",
       "Fri   2.38   2.94      12.85  19.66\n",
       "Sat    NaN   2.99        NaN  20.44\n",
       "Sun    NaN   3.26        NaN  21.41"
      ]
     },
     "execution_count": 25,
     "metadata": {},
     "output_type": "execute_result"
    }
   ],
   "source": [
    "# 두 개 이상의 변수에 대한 aggregation\n",
    "tips.pivot_table(index=\"day\", columns=\"time\", values=[\"tip\", \"total_bill\"])"
   ]
  },
  {
   "cell_type": "code",
   "execution_count": 37,
   "metadata": {},
   "outputs": [
    {
     "data": {
      "text/plain": [
       "       tip        total_bill       \n",
       "time Lunch Dinner      Lunch Dinner\n",
       "day                                \n",
       "Thur  2.77   3.00      17.66  18.78\n",
       "Fri   2.38   2.94      12.85  19.66\n",
       "Sat    NaN   2.99        NaN  20.44\n",
       "Sun    NaN   3.26        NaN  21.41"
      ]
     },
     "execution_count": 37,
     "metadata": {},
     "output_type": "execute_result"
    }
   ],
   "source": [
    "# groupby를 이용\n",
    "tips.groupby([\"day\", \"time\"])[[\"tip\", \"total_bill\"]].mean().unstack()"
   ]
  },
  {
   "cell_type": "code",
   "execution_count": 26,
   "metadata": {},
   "outputs": [
    {
     "data": {
      "text/plain": [
       "time  Lunch  Dinner  All\n",
       "day                     \n",
       "Thur   2.77    3.00 2.77\n",
       "Fri    2.38    2.94 2.73\n",
       "Sat     NaN    2.99 2.99\n",
       "Sun     NaN    3.26 3.26\n",
       "All    2.73    3.10 3.00"
      ]
     },
     "execution_count": 26,
     "metadata": {},
     "output_type": "execute_result"
    }
   ],
   "source": [
    "tips.pivot_table(index=\"day\", columns=\"time\", values=\"tip\", margins=True)"
   ]
  },
  {
   "cell_type": "code",
   "execution_count": null,
   "metadata": {},
   "outputs": [],
   "source": []
  }
 ],
 "metadata": {
  "kernelspec": {
   "display_name": "envconda",
   "language": "python",
   "name": "python3"
  },
  "language_info": {
   "codemirror_mode": {
    "name": "ipython",
    "version": 3
   },
   "file_extension": ".py",
   "mimetype": "text/x-python",
   "name": "python",
   "nbconvert_exporter": "python",
   "pygments_lexer": "ipython3",
   "version": "3.11.0"
  },
  "orig_nbformat": 4
 },
 "nbformat": 4,
 "nbformat_minor": 2
}
