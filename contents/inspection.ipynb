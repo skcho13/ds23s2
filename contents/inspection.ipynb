{
 "cells": [
  {
   "cell_type": "raw",
   "metadata": {},
   "source": [
    "---\n",
    "title: Inspecting data\n",
    "subtitle: Mixed\n",
    "date: Feb 11, 2023\n",
    "author: Sungkyun Cho\n",
    "---"
   ]
  },
  {
   "cell_type": "code",
   "execution_count": 1,
   "metadata": {},
   "outputs": [],
   "source": [
    "#| code-summary: Load Packages\n",
    "#| code-fold: true\n",
    "\n",
    "# numerical calculation & data frames\n",
    "import numpy as np\n",
    "import pandas as pd\n",
    "\n",
    "# visualization\n",
    "import matplotlib.pyplot as plt\n",
    "import seaborn as sns\n",
    "import seaborn.objects as so\n",
    "import plotly.express as px\n",
    "\n",
    "# statistics\n",
    "import statsmodels.api as sm"
   ]
  },
  {
   "cell_type": "code",
   "execution_count": 2,
   "metadata": {},
   "outputs": [],
   "source": [
    "#| echo: false\n",
    "from IPython.display import display, HTML\n",
    "HTML('<style>.output {flex-direction: row;}</style>')\n",
    "pd.options.display.notebook_repr_html = False"
   ]
  },
  {
   "cell_type": "code",
   "execution_count": 3,
   "metadata": {},
   "outputs": [],
   "source": [
    "#| code-summary: Options\n",
    "#| code-fold: true\n",
    "\n",
    "# pandas options\n",
    "pd.options.display.precision = 2\n",
    "pd.options.display.float_format = '{:.2f}'.format  # pd.reset_option('display.float_format')\n",
    "pd.options.display.max_rows = 8\n",
    "\n",
    "# Numpy options\n",
    "np.set_printoptions(precision = 2, suppress=True)"
   ]
  },
  {
   "attachments": {},
   "cell_type": "markdown",
   "metadata": {},
   "source": [
    "## Useful method\n",
    "\n",
    "`.head()`, `.tail()`, `.sample()`  \n",
    "`.info()`, `.describe()`,  \n",
    "`.value_counts()`,  \n",
    "`.sort_values()`, `.nlargest()`, `.nsmallest()`"
   ]
  },
  {
   "attachments": {},
   "cell_type": "markdown",
   "metadata": {},
   "source": [
    "Data: Tips  \n",
    "일정기간 한 웨이터가 얻은 팁에 대한 데이터"
   ]
  },
  {
   "cell_type": "code",
   "execution_count": 5,
   "metadata": {},
   "outputs": [
    {
     "data": {
      "text/plain": [
       "     total_bill  tip     sex smoker   day    time  size\n",
       "0         16.99 1.01  Female     No   Sun  Dinner     2\n",
       "1         10.34 1.66    Male     No   Sun  Dinner     3\n",
       "2         21.01 3.50    Male     No   Sun  Dinner     3\n",
       "3         23.68 3.31    Male     No   Sun  Dinner     2\n",
       "..          ...  ...     ...    ...   ...     ...   ...\n",
       "240       27.18 2.00  Female    Yes   Sat  Dinner     2\n",
       "241       22.67 2.00    Male    Yes   Sat  Dinner     2\n",
       "242       17.82 1.75    Male     No   Sat  Dinner     2\n",
       "243       18.78 3.00  Female     No  Thur  Dinner     2\n",
       "\n",
       "[244 rows x 7 columns]"
      ]
     },
     "execution_count": 5,
     "metadata": {},
     "output_type": "execute_result"
    }
   ],
   "source": [
    "# load a dataset\n",
    "tips = sns.load_dataset(\"tips\")\n",
    "tips"
   ]
  },
  {
   "cell_type": "code",
   "execution_count": 57,
   "metadata": {},
   "outputs": [
    {
     "data": {
      "text/plain": [
       "array([[16.99, 1.01, 'Female', ..., 'Sun', 'Dinner', 2],\n",
       "       [10.34, 1.66, 'Male', ..., 'Sun', 'Dinner', 3],\n",
       "       [21.01, 3.5, 'Male', ..., 'Sun', 'Dinner', 3],\n",
       "       ...,\n",
       "       [22.67, 2.0, 'Male', ..., 'Sat', 'Dinner', 2],\n",
       "       [17.82, 1.75, 'Male', ..., 'Sat', 'Dinner', 2],\n",
       "       [18.78, 3.0, 'Female', ..., 'Thur', 'Dinner', 2]], dtype=object)"
      ]
     },
     "execution_count": 57,
     "metadata": {},
     "output_type": "execute_result"
    }
   ],
   "source": [
    "# DataFrame의 값들: ndarray\n",
    "tips.values # or tips.to_numpy()"
   ]
  },
  {
   "cell_type": "code",
   "execution_count": 58,
   "metadata": {},
   "outputs": [
    {
     "data": {
      "text/plain": [
       "   total_bill  tip     sex smoker  day    time  size\n",
       "0       16.99 1.01  Female     No  Sun  Dinner     2\n",
       "1       10.34 1.66    Male     No  Sun  Dinner     3\n",
       "2       21.01 3.50    Male     No  Sun  Dinner     3\n",
       "3       23.68 3.31    Male     No  Sun  Dinner     2\n",
       "4       24.59 3.61  Female     No  Sun  Dinner     4"
      ]
     },
     "execution_count": 58,
     "metadata": {},
     "output_type": "execute_result"
    }
   ],
   "source": [
    "tips.head() # 처음 N개 나열"
   ]
  },
  {
   "cell_type": "code",
   "execution_count": 59,
   "metadata": {},
   "outputs": [
    {
     "name": "stdout",
     "output_type": "stream",
     "text": [
      "<class 'pandas.core.frame.DataFrame'>\n",
      "RangeIndex: 244 entries, 0 to 243\n",
      "Data columns (total 7 columns):\n",
      " #   Column      Non-Null Count  Dtype   \n",
      "---  ------      --------------  -----   \n",
      " 0   total_bill  244 non-null    float64 \n",
      " 1   tip         244 non-null    float64 \n",
      " 2   sex         244 non-null    category\n",
      " 3   smoker      244 non-null    category\n",
      " 4   day         244 non-null    category\n",
      " 5   time        244 non-null    category\n",
      " 6   size        244 non-null    int64   \n",
      "dtypes: category(4), float64(2), int64(1)\n",
      "memory usage: 7.4 KB\n"
     ]
    }
   ],
   "source": [
    "tips.info()"
   ]
  },
  {
   "cell_type": "code",
   "execution_count": 60,
   "metadata": {},
   "outputs": [
    {
     "data": {
      "text/plain": [
       "       total_bill    tip   size\n",
       "count      244.00 244.00 244.00\n",
       "mean        19.79   3.00   2.57\n",
       "std          8.90   1.38   0.95\n",
       "min          3.07   1.00   1.00\n",
       "25%         13.35   2.00   2.00\n",
       "50%         17.80   2.90   2.00\n",
       "75%         24.13   3.56   3.00\n",
       "max         50.81  10.00   6.00"
      ]
     },
     "execution_count": 60,
     "metadata": {},
     "output_type": "execute_result"
    }
   ],
   "source": [
    "#| layout-ncol: 2\n",
    "tips.describe() # numerical type만 나열"
   ]
  },
  {
   "cell_type": "code",
   "execution_count": 61,
   "metadata": {},
   "outputs": [
    {
     "data": {
      "text/plain": [
       "        total_bill    tip   sex smoker  day    time   size\n",
       "count       244.00 244.00   244    244  244     244 244.00\n",
       "unique         NaN    NaN     2      2    4       2    NaN\n",
       "top            NaN    NaN  Male     No  Sat  Dinner    NaN\n",
       "freq           NaN    NaN   157    151   87     176    NaN\n",
       "...            ...    ...   ...    ...  ...     ...    ...\n",
       "25%          13.35   2.00   NaN    NaN  NaN     NaN   2.00\n",
       "50%          17.80   2.90   NaN    NaN  NaN     NaN   2.00\n",
       "75%          24.13   3.56   NaN    NaN  NaN     NaN   3.00\n",
       "max          50.81  10.00   NaN    NaN  NaN     NaN   6.00\n",
       "\n",
       "[11 rows x 7 columns]"
      ]
     },
     "execution_count": 61,
     "metadata": {},
     "output_type": "execute_result"
    }
   ],
   "source": [
    "tips.describe(include=\"all\") # all types 나열"
   ]
  },
  {
   "cell_type": "code",
   "execution_count": 62,
   "metadata": {},
   "outputs": [
    {
     "data": {
      "text/plain": [
       "         sex smoker  day    time\n",
       "count    244    244  244     244\n",
       "unique     2      2    4       2\n",
       "top     Male     No  Sat  Dinner\n",
       "freq     157    151   87     176"
      ]
     },
     "execution_count": 62,
     "metadata": {},
     "output_type": "execute_result"
    }
   ],
   "source": [
    "#| layout-ncol: 2\n",
    "tips.describe(include=\"category\")"
   ]
  },
  {
   "cell_type": "code",
   "execution_count": 63,
   "metadata": {},
   "outputs": [],
   "source": [
    "s1 = tips[\"day\"].value_counts() # \"day\" 칼럼을 선택 후 각 카테고리별 counts\n",
    "s2 = tips[\"day\"].value_counts(sort=False) # default: sort is true\n",
    "s3 = tips[\"day\"].value_counts(normalize=True) # 카테고리별 비율\n",
    "s4 = tips[[\"sex\", \"smoker\"]].value_counts() # \"sex\", \"smoker\" 칼럼을 선택 후 유니크한 카테고리별 counts"
   ]
  },
  {
   "cell_type": "code",
   "execution_count": 64,
   "metadata": {},
   "outputs": [
    {
     "data": {
      "text/plain": [
       "Sat     87\n",
       "Sun     76\n",
       "Thur    62\n",
       "Fri     19\n",
       "Name: day, dtype: int64"
      ]
     },
     "metadata": {},
     "output_type": "display_data"
    },
    {
     "data": {
      "text/plain": [
       "Thur    62\n",
       "Fri     19\n",
       "Sat     87\n",
       "Sun     76\n",
       "Name: day, dtype: int64"
      ]
     },
     "metadata": {},
     "output_type": "display_data"
    },
    {
     "data": {
      "text/plain": [
       "Sat    0.36\n",
       "Sun    0.31\n",
       "Thur   0.25\n",
       "Fri    0.08\n",
       "Name: day, dtype: float64"
      ]
     },
     "metadata": {},
     "output_type": "display_data"
    },
    {
     "data": {
      "text/plain": [
       "sex     smoker\n",
       "Male    No        97\n",
       "        Yes       60\n",
       "Female  No        54\n",
       "        Yes       33\n",
       "dtype: int64"
      ]
     },
     "metadata": {},
     "output_type": "display_data"
    }
   ],
   "source": [
    "#| label: fig-chart\n",
    "#| layout-ncol: 2\n",
    "#| echo: false\n",
    "#| fig-cap: \"value_count()의 arguments\"\n",
    "#| fig-subcap:\n",
    "#|  - \"s1\"\n",
    "#|  - \"s2\"\n",
    "#|  - \"s3\"\n",
    "#|  - \"s4\"\n",
    "\n",
    "display(s1); display(s2)\n",
    "display(s3); display(s4)"
   ]
  },
  {
   "attachments": {},
   "cell_type": "markdown",
   "metadata": {},
   "source": [
    "::: {.callout-tip}\n",
    "다음 두 가지 형태도 가능하며, 차이에 유의\n",
    "```python\n",
    "tips[[\"day\"]].value_counts()  # double bracket\n",
    "tips.value_counts(\"day\")  # argument\n",
    "tips.value_counts([\"day\", \"time\"])\n",
    "```\n",
    ":::"
   ]
  },
  {
   "cell_type": "markdown",
   "metadata": {},
   "source": [
    "___"
   ]
  },
  {
   "attachments": {},
   "cell_type": "markdown",
   "metadata": {},
   "source": [
    "Data: palmerpenguins"
   ]
  },
  {
   "cell_type": "code",
   "execution_count": 65,
   "metadata": {},
   "outputs": [
    {
     "data": {
      "text/plain": [
       "    species     island  bill_length_mm  bill_depth_mm  flipper_length_mm  \\\n",
       "0    Adelie  Torgersen           39.10          18.70             181.00   \n",
       "1    Adelie  Torgersen           39.50          17.40             186.00   \n",
       "2    Adelie  Torgersen           40.30          18.00             195.00   \n",
       "3    Adelie  Torgersen             NaN            NaN                NaN   \n",
       "..      ...        ...             ...            ...                ...   \n",
       "340  Gentoo     Biscoe           46.80          14.30             215.00   \n",
       "341  Gentoo     Biscoe           50.40          15.70             222.00   \n",
       "342  Gentoo     Biscoe           45.20          14.80             212.00   \n",
       "343  Gentoo     Biscoe           49.90          16.10             213.00   \n",
       "\n",
       "     body_mass_g     sex  \n",
       "0        3750.00    Male  \n",
       "1        3800.00  Female  \n",
       "2        3250.00  Female  \n",
       "3            NaN     NaN  \n",
       "..           ...     ...  \n",
       "340      4850.00  Female  \n",
       "341      5750.00    Male  \n",
       "342      5200.00  Female  \n",
       "343      5400.00    Male  \n",
       "\n",
       "[344 rows x 7 columns]"
      ]
     },
     "execution_count": 65,
     "metadata": {},
     "output_type": "execute_result"
    }
   ],
   "source": [
    "# load a dataset\n",
    "penguins = sns.load_dataset(\"penguins\")\n",
    "penguins"
   ]
  },
  {
   "cell_type": "code",
   "execution_count": 66,
   "metadata": {},
   "outputs": [
    {
     "name": "stdout",
     "output_type": "stream",
     "text": [
      "<class 'pandas.core.frame.DataFrame'>\n",
      "RangeIndex: 344 entries, 0 to 343\n",
      "Data columns (total 7 columns):\n",
      " #   Column             Non-Null Count  Dtype  \n",
      "---  ------             --------------  -----  \n",
      " 0   species            344 non-null    object \n",
      " 1   island             344 non-null    object \n",
      " 2   bill_length_mm     342 non-null    float64\n",
      " 3   bill_depth_mm      342 non-null    float64\n",
      " 4   flipper_length_mm  342 non-null    float64\n",
      " 5   body_mass_g        342 non-null    float64\n",
      " 6   sex                333 non-null    object \n",
      "dtypes: float64(4), object(3)\n",
      "memory usage: 18.9+ KB\n"
     ]
    }
   ],
   "source": [
    "penguins.info()"
   ]
  },
  {
   "cell_type": "code",
   "execution_count": 67,
   "metadata": {},
   "outputs": [
    {
     "data": {
      "text/plain": [
       "       species  island   sex\n",
       "count      344     344   333\n",
       "unique       3       3     2\n",
       "top     Adelie  Biscoe  Male\n",
       "freq       152     168   168"
      ]
     },
     "execution_count": 67,
     "metadata": {},
     "output_type": "execute_result"
    }
   ],
   "source": [
    "#| layout-ncol: 2\n",
    "penguins.describe(include=\"object\")"
   ]
  },
  {
   "cell_type": "code",
   "execution_count": 68,
   "metadata": {},
   "outputs": [
    {
     "data": {
      "text/plain": [
       "island     species  \n",
       "Biscoe     Gentoo       124\n",
       "Dream      Chinstrap     68\n",
       "           Adelie        56\n",
       "Torgersen  Adelie        52\n",
       "Biscoe     Adelie        44\n",
       "dtype: int64"
      ]
     },
     "execution_count": 68,
     "metadata": {},
     "output_type": "execute_result"
    }
   ],
   "source": [
    "penguins[[\"island\", \"species\"]].value_counts()"
   ]
  },
  {
   "cell_type": "code",
   "execution_count": 69,
   "metadata": {},
   "outputs": [
    {
     "data": {
      "text/plain": [
       "sex     species  \n",
       "Female  Adelie       73\n",
       "Male    Adelie       73\n",
       "        Gentoo       61\n",
       "Female  Gentoo       58\n",
       "        Chinstrap    34\n",
       "Male    Chinstrap    34\n",
       "NaN     Adelie        6\n",
       "        Gentoo        5\n",
       "dtype: int64"
      ]
     },
     "execution_count": 69,
     "metadata": {},
     "output_type": "execute_result"
    }
   ],
   "source": [
    "penguins[[\"sex\", \"species\"]].value_counts(dropna=False) # NA은 기본적으로 생략"
   ]
  },
  {
   "cell_type": "code",
   "execution_count": 70,
   "metadata": {},
   "outputs": [
    {
     "data": {
      "text/plain": [
       "species               0\n",
       "island                0\n",
       "bill_length_mm        2\n",
       "bill_depth_mm         2\n",
       "flipper_length_mm     2\n",
       "body_mass_g           2\n",
       "sex                  11\n",
       "dtype: int64"
      ]
     },
     "execution_count": 70,
     "metadata": {},
     "output_type": "execute_result"
    }
   ],
   "source": [
    "penguins.isna().sum() # NA의 개수"
   ]
  },
  {
   "cell_type": "code",
   "execution_count": 8,
   "metadata": {},
   "outputs": [
    {
     "data": {
      "text/plain": [
       "     total_bill   tip     sex smoker  day    time  size\n",
       "170       50.81 10.00    Male    Yes  Sat  Dinner     3\n",
       "212       48.33  9.00    Male     No  Sat  Dinner     4\n",
       "23        39.42  7.58    Male     No  Sat  Dinner     4\n",
       "59        48.27  6.73    Male     No  Sat  Dinner     4\n",
       "..          ...   ...     ...    ...  ...     ...   ...\n",
       "236       12.60  1.00    Male    Yes  Sat  Dinner     2\n",
       "111        7.25  1.00  Female     No  Sat  Dinner     1\n",
       "67         3.07  1.00  Female    Yes  Sat  Dinner     1\n",
       "92         5.75  1.00  Female    Yes  Fri  Dinner     2\n",
       "\n",
       "[244 rows x 7 columns]"
      ]
     },
     "execution_count": 8,
     "metadata": {},
     "output_type": "execute_result"
    }
   ],
   "source": [
    "tips.sort_values(\"tip\", ascending=False)"
   ]
  },
  {
   "cell_type": "code",
   "execution_count": 12,
   "metadata": {},
   "outputs": [
    {
     "data": {
      "text/plain": [
       "     total_bill  tip     sex smoker   day    time  size\n",
       "125       29.80 4.20  Female     No  Thur   Lunch     6\n",
       "143       27.05 5.00  Female     No  Thur   Lunch     6\n",
       "156       48.17 5.00    Male     No   Sun  Dinner     6\n",
       "141       34.30 6.70    Male     No  Thur   Lunch     6\n",
       "..          ...  ...     ...    ...   ...     ...   ...\n",
       "67         3.07 1.00  Female    Yes   Sat  Dinner     1\n",
       "111        7.25 1.00  Female     No   Sat  Dinner     1\n",
       "82        10.07 1.83  Female     No  Thur   Lunch     1\n",
       "222        8.58 1.92    Male    Yes   Fri   Lunch     1\n",
       "\n",
       "[244 rows x 7 columns]"
      ]
     },
     "execution_count": 12,
     "metadata": {},
     "output_type": "execute_result"
    }
   ],
   "source": [
    "tips.sort_values([\"size\", \"tip\"], ascending=[False, True])"
   ]
  },
  {
   "cell_type": "code",
   "execution_count": 9,
   "metadata": {},
   "outputs": [
    {
     "data": {
      "text/plain": [
       "     total_bill   tip   sex smoker  day    time  size\n",
       "170       50.81 10.00  Male    Yes  Sat  Dinner     3\n",
       "212       48.33  9.00  Male     No  Sat  Dinner     4\n",
       "23        39.42  7.58  Male     No  Sat  Dinner     4"
      ]
     },
     "execution_count": 9,
     "metadata": {},
     "output_type": "execute_result"
    }
   ],
   "source": [
    "tips.nlargest(3, \"tip\")  # keep=\"first\", \"last\", \"all\""
   ]
  }
 ],
 "metadata": {
  "kernelspec": {
   "display_name": "envconda",
   "language": "python",
   "name": "python3"
  },
  "language_info": {
   "codemirror_mode": {
    "name": "ipython",
    "version": 3
   },
   "file_extension": ".py",
   "mimetype": "text/x-python",
   "name": "python",
   "nbconvert_exporter": "python",
   "pygments_lexer": "ipython3",
   "version": "3.11.0"
  },
  "orig_nbformat": 4,
  "vscode": {
   "interpreter": {
    "hash": "74ad319f5187b0352e4d45e7895ccc03a7dd9505bde9d93fefd838a3430f7b7f"
   }
  }
 },
 "nbformat": 4,
 "nbformat_minor": 2
}
