{
 "cells": [
  {
   "attachments": {},
   "cell_type": "raw",
   "metadata": {},
   "source": [
    "---\n",
    "title: 환경설정\n",
    "subtitle: Mixed\n",
    "date: Feb 11, 2023\n",
    "author: Sungkyun Cho\n",
    "---"
   ]
  },
  {
   "attachments": {},
   "cell_type": "markdown",
   "metadata": {},
   "source": [
    "# 1. Python과 Conda Package Manager\n",
    "\n",
    "[Conda Cheatsheet](https://docs.conda.io/projects/conda/en/4.6.0/_downloads/52a95608c49671267e40c689e0bc00ca/conda-cheatsheet.pdf): 기본적인 conda 명령어 요약\n",
    "\n",
    "## Miniconda 설치\n",
    "\n",
    "Anaconda보다는 기본 패키지들이 미리 설치되지 않는 miniconda를 추천: [miniconda install page](https://docs.conda.io/en/latest/miniconda.html)\n",
    "\n",
    "- Windows 경우: 설치시 물어보는 *\"add Miniconda to your PATH variable\"* 옵션을 켜고 설치할 것"
   ]
  },
  {
   "attachments": {},
   "cell_type": "markdown",
   "metadata": {},
   "source": [
    "Shell 사용에 대해서는 아래 3. Command Line Tool 참고"
   ]
  },
  {
   "cell_type": "code",
   "execution_count": 6,
   "metadata": {},
   "outputs": [],
   "source": [
    "# Terminal (Mac) or Miniconda Powershell Prompt (Windows)\n",
    "\n",
    "#> conda info # 콘다 정보 \n",
    "#> conda update conda # 콘다 업데이트"
   ]
  },
  {
   "attachments": {},
   "cell_type": "markdown",
   "metadata": {},
   "source": [
    "## 패키지 repository(channel) 선택\n",
    "\n",
    "[conda/managing channels](https://conda.io/projects/conda/en/latest/user-guide/tasks/)\n",
    "\n",
    "다음을 통해 `.condarc` [환경파일](https://conda.io/projects/conda/en/latest/user-guide/configuration/use-condarc.html)에 configuration 추가"
   ]
  },
  {
   "cell_type": "code",
   "execution_count": 7,
   "metadata": {},
   "outputs": [],
   "source": [
    "#> conda config --add channels conda-forge\n",
    "#> conda config --set channel_priority strict  # 채널 순으로 검색, 버전 순이 아니고"
   ]
  },
  {
   "cell_type": "code",
   "execution_count": null,
   "metadata": {},
   "outputs": [],
   "source": [
    "# 개별적으로 채널을 선택해서 install하려면\n",
    "#> conda install scipy --channel conda-forge\n",
    "\n",
    "# pakcage가 있는 채널들\n",
    "#> conda search scipy"
   ]
  },
  {
   "attachments": {},
   "cell_type": "markdown",
   "metadata": {},
   "source": [
    "conda base에 있는 Python을 update하려면, 가령 3.10으로 업데이트하려면"
   ]
  },
  {
   "cell_type": "code",
   "execution_count": 16,
   "metadata": {},
   "outputs": [],
   "source": [
    "#> conda install python=3.10  # python update"
   ]
  },
  {
   "attachments": {},
   "cell_type": "markdown",
   "metadata": {},
   "source": [
    "## Conda Environment\n",
    "\n",
    "[conda/user guide](https://conda.io/projects/conda/en/latest/user-guide/tasks/manage-environments.html#creating-an-environment-with-commands)\n",
    "\n",
    "환경 생성: miniconda에서 자체 제공하는 가상환경으로 수업에서는 다른 가상환경 툴인 `pyenv`나 `venv` 사용하지 않음"
   ]
  },
  {
   "cell_type": "code",
   "execution_count": 9,
   "metadata": {},
   "outputs": [],
   "source": [
    "#$ conda create --name myenv\n",
    "\n",
    "# 특정 버전의 파이썬 설치시\n",
    "#> conda create --name myenv python=3.9"
   ]
  },
  {
   "attachments": {},
   "cell_type": "markdown",
   "metadata": {},
   "source": [
    "환경 확인"
   ]
  },
  {
   "cell_type": "code",
   "execution_count": 10,
   "metadata": {},
   "outputs": [],
   "source": [
    "#$ conda env list\n",
    "\n",
    "#> conda environments:\n",
    "#>  base         */.../miniconda3\n",
    "#>                /.../miniconda3/envs/myenv"
   ]
  },
  {
   "attachments": {},
   "cell_type": "markdown",
   "metadata": {},
   "source": [
    "환경 제거"
   ]
  },
  {
   "cell_type": "code",
   "execution_count": 11,
   "metadata": {},
   "outputs": [],
   "source": [
    "#> conda env remove --name myenv"
   ]
  },
  {
   "attachments": {},
   "cell_type": "markdown",
   "metadata": {},
   "source": [
    "환경 activate/deactivate"
   ]
  },
  {
   "cell_type": "code",
   "execution_count": 12,
   "metadata": {},
   "outputs": [],
   "source": [
    "#> conda activate myenv\n",
    "#> conda deactivate  # activated 환경 내에서"
   ]
  },
  {
   "attachments": {},
   "cell_type": "markdown",
   "metadata": {},
   "source": [
    "특정 환경 안의 파이썬 버전 확인"
   ]
  },
  {
   "cell_type": "code",
   "execution_count": null,
   "metadata": {},
   "outputs": [],
   "source": [
    "#(myenv) python --version"
   ]
  },
  {
   "attachments": {},
   "cell_type": "markdown",
   "metadata": {},
   "source": [
    "::: {.callout-tip}\n",
    "### Jupyter notebook을 쓰는 경우 \n",
    "\n",
    "새로 만든 가상환경을 등록해줘야 함.\n",
    "```python\n",
    "#> ipython kernel install --user --name=myenv\n",
    "```\n",
    "\n",
    "가상환경을 삭제해도 등록시킨 kernel 이름은 삭제되지 않으니 직접 삭제.\n",
    "\n",
    "등록된 커널 리스트를 확인\n",
    "```python\n",
    "#> jupyter kernelspec list\n",
    "```\n",
    "\n",
    "커널 삭제\n",
    "```python\n",
    "#> jupyter kernelspec remove myenv\n",
    "```\n",
    ":::"
   ]
  },
  {
   "attachments": {},
   "cell_type": "markdown",
   "metadata": {},
   "source": [
    "## (activated) 환경 내에서 패키지 설치 및 제거"
   ]
  },
  {
   "cell_type": "code",
   "execution_count": 13,
   "metadata": {},
   "outputs": [],
   "source": [
    "# 특정 환경을 activate한 후\n",
    "#> conda install <package name1> <package name2> ...\n",
    "#> conda install --channel conda-forge <package name> # 특정 conda-forge 채널을 통한 설치\n",
    "\n",
    "# 제거\n",
    "#> conda remove <package name1> <package name2> ...\n",
    "\n",
    "# update\n",
    "#> conda update <package name1> <package name2> ...\n",
    "#> conda update --all # all packages\n",
    "\n",
    "# 패키지 리스트\n",
    "#> conda list"
   ]
  },
  {
   "cell_type": "code",
   "execution_count": null,
   "metadata": {},
   "outputs": [],
   "source": [
    "# 환경 밖에서 특정 환경 안에 설치하려면 환경이름 추가\n",
    "#> conda install --name myenv <package name1>"
   ]
  },
  {
   "cell_type": "code",
   "execution_count": 14,
   "metadata": {},
   "outputs": [],
   "source": [
    "# pip을  이용한  패키지 설치: conda repository에 없는 패키지들을 설치하는 경우. 충돌의 우려 있음\n",
    "#> pip install <package name1> <package name2> ..."
   ]
  },
  {
   "cell_type": "code",
   "execution_count": null,
   "metadata": {},
   "outputs": [],
   "source": [
    "# 환경 안에 다른 버전의 Python 설치하려면, 가령 python 3.9라면\n",
    "#> conda install python=3.9"
   ]
  },
  {
   "cell_type": "code",
   "execution_count": 15,
   "metadata": {},
   "outputs": [],
   "source": [
    "# 수업에 필요한 기본 패키지 설치\n",
    "#> conda install jupyter numpy pandas matplotlib seaborn\n",
    "#> conda install -c plotly plotly=5.13.0"
   ]
  },
  {
   "attachments": {},
   "cell_type": "markdown",
   "metadata": {},
   "source": [
    "# 2. Visual Studio Code {#sec-vscode}"
   ]
  },
  {
   "attachments": {},
   "cell_type": "markdown",
   "metadata": {},
   "source": [
    "## VS Code 설치\n",
    "\n",
    "개인마다 선호하는 text editor가 있으나 본 수업에서는 VS Code로 진행: [download and install here](https://code.visualstudio.com)"
   ]
  },
  {
   "attachments": {},
   "cell_type": "markdown",
   "metadata": {},
   "source": [
    "# 3. Command Line Tool"
   ]
  },
  {
   "attachments": {},
   "cell_type": "markdown",
   "metadata": {},
   "source": [
    "## Mac의 경우: 기본 bash shell인 terminal 대신 다음 zsh을 추천\n",
    "\n",
    "`Oh-My-Zsh!`: [링크](https://ohmyz.sh/)\n",
    "\n",
    "- 이 경우 miniconda 설치시 bash의 추가된 conda setup을 zsh로 가져와야 함: minconda를 zsh 설치 후에 설치하는 경우는 miniconda가 추가시키니 신경쓸 필요 없음\n",
    "\n",
    "  - home directory에 있는 `.bash_profile` 을 열면 # >>> conda initialize >>> 로 시작해서 # <<< conda initialize <<< 부분까지를 복사한 후 `.zshrc` 파일을 열어 맨 뒤에 붙여넣음\n",
    "\n",
    "  - 위 파일을 VS Code에서 쉽게 열어보려면 아래 그림처럼 VS Code에서 `Sehll Command: Install 'Code' command in PATH` 실행하고 나면\n",
    "  \n",
    "  - shell 환경에서 `code .zshrc`를 실행하면 VS Code에서 편집할 수 있음\n",
    "\n",
    "  <img src=\"./images/shell.png\" width=\"500\">"
   ]
  },
  {
   "attachments": {},
   "cell_type": "markdown",
   "metadata": {},
   "source": [
    "## Windows의 경우: `Windows Terminal` 추천\n",
    "\n",
    "- 설치 링크는 구글링...\n",
    "\n",
    "- 명령프롬프트(`CMD`) vs. `Powershell`\n",
    "  \n",
    "- `Powershell`에서 conda를 사용하기 위해서는 몇 가지 설정 필요: [블로그 링크](https://velog.io/@d2h10s/Anaconda-Powershell%EC%97%90%EC%84%9C-Anaconda-%ED%99%98%EA%B2%BD-%EC%82%AC%EC%9A%A9%ED%95%98%EA%B8%B0)"
   ]
  },
  {
   "attachments": {},
   "cell_type": "markdown",
   "metadata": {},
   "source": [
    "# 4. VS Code 활용\n"
   ]
  },
  {
   "attachments": {},
   "cell_type": "markdown",
   "metadata": {},
   "source": [
    "## Extensions\n",
    "- Python\n",
    "- Python Extension Pack 중\n",
    "  - IntelliCode\n",
    "  - Python Environment Manager\n",
    "- Docs View"
   ]
  },
  {
   "attachments": {},
   "cell_type": "markdown",
   "metadata": {},
   "source": [
    "## Preferences\n",
    "- Themes\n",
    "- Font, font size (notebook, results)"
   ]
  },
  {
   "attachments": {},
   "cell_type": "markdown",
   "metadata": {},
   "source": [
    "## Shortcuts\n",
    "Show Command Palette: ctrl(cmd) + shift + p, 또는 F1 \n",
    "\n",
    "Cell 안과 밖\n",
    "\n",
    "- undo/redo : ctrl(cmd) + z / ctrl(cmd) + shift + z\n",
    "- alt(option) + arrow up/down : move\n",
    "- alt(option) + shift + arrow up/down : copy\n",
    "\n",
    "실행: ctrl/shift/alt(option) + enter\n",
    "\n",
    "**Basic editing** 참고"
   ]
  },
  {
   "attachments": {},
   "cell_type": "markdown",
   "metadata": {},
   "source": [
    "## 그 외\n",
    "\n",
    "- interactive mode\n",
    "- export\n",
    "- docs view\n",
    "- variables viewer, data viewer\n",
    "- formatter\n",
    "- snippets"
   ]
  }
 ],
 "metadata": {
  "kernelspec": {
   "display_name": "envtest",
   "language": "python",
   "name": "python3"
  },
  "language_info": {
   "codemirror_mode": {
    "name": "ipython",
    "version": 3
   },
   "file_extension": ".py",
   "mimetype": "text/x-python",
   "name": "python",
   "nbconvert_exporter": "python",
   "pygments_lexer": "ipython3",
   "version": "3.11.0"
  },
  "orig_nbformat": 4,
  "vscode": {
   "interpreter": {
    "hash": "2102049eac8f896c12f099595fe6bff4171846074f5e3145c0f14dc8ecafca99"
   }
  }
 },
 "nbformat": 4,
 "nbformat_minor": 2
}
