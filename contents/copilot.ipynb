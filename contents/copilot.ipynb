{
 "cells": [
  {
   "cell_type": "raw",
   "metadata": {},
   "source": [
    "---\n",
    "title: Machine Learning\n",
    "subtitle: ...\n",
    "date: Feb 11, 2023\n",
    "author: Sungkyun Cho\n",
    "---"
   ]
  },
  {
   "cell_type": "code",
   "execution_count": 1,
   "metadata": {},
   "outputs": [],
   "source": [
    "#| code-fold: true\n",
    "#| code-summary: Load packages\n",
    "\n",
    "# numerical calculation & data frames\n",
    "import numpy as np\n",
    "import pandas as pd\n",
    "\n",
    "# visualization\n",
    "import matplotlib.pyplot as plt\n",
    "import seaborn as sns\n",
    "import seaborn.objects as so\n",
    "\n",
    "# statistics\n",
    "import statsmodels.api as sm"
   ]
  },
  {
   "cell_type": "code",
   "execution_count": 2,
   "metadata": {},
   "outputs": [],
   "source": [
    "#| echo: false\n",
    "pd.options.display.notebook_repr_html = False"
   ]
  },
  {
   "cell_type": "code",
   "execution_count": 3,
   "metadata": {},
   "outputs": [],
   "source": [
    "#| code-summary: Options\n",
    "#| code-fold: true\n",
    "\n",
    "# pandas options\n",
    "pd.set_option(\"mode.copy_on_write\", True)\n",
    "pd.options.display.precision = 2\n",
    "pd.options.display.float_format = '{:.2f}'.format  # pd.reset_option('display.float_format')\n",
    "# pd.options.display.max_rows = 7\n",
    "\n",
    "# Numpy options\n",
    "np.set_printoptions(precision = 2, suppress=True)"
   ]
  },
  {
   "cell_type": "code",
   "execution_count": 4,
   "metadata": {},
   "outputs": [],
   "source": [
    "# import diamonds data from statsmodels get_rdataset\n",
    "diamonds = sm.datasets.get_rdataset('diamonds', 'ggplot2').data"
   ]
  },
  {
   "cell_type": "code",
   "execution_count": 7,
   "metadata": {},
   "outputs": [],
   "source": [
    "# add a column of log price and log carat to diamonds\n",
    "diamonds['log_price'] = np.log(diamonds.price)\n",
    "diamonds['log_carat'] = np.log(diamonds.carat)\n",
    "\n",
    "\n"
   ]
  },
  {
   "cell_type": "code",
   "execution_count": 8,
   "metadata": {},
   "outputs": [],
   "source": [
    "from sklearn.linear_model import LinearRegression\n",
    "from sklearn.model_selection import train_test_split\n",
    "from sklearn.metrics import mean_squared_error, r2_score\n",
    "\n",
    "# build a linear model wher a predictor is log_carat and response is log_price\n",
    "X = diamonds.log_carat.values.reshape(-1, 1)\n",
    "y = diamonds.log_price\n",
    "\n",
    "# split the data into training and test sets\n",
    "X_train, X_test, y_train, y_test = train_test_split(X, y, test_size=0.2, random_state=42)\n",
    "\n",
    "# create a linear regression model\n",
    "model = LinearRegression()\n",
    "\n",
    "# fit the model to the training data\n",
    "model.fit(X_train, y_train)\n",
    "\n",
    "# predict the response for the test data\n",
    "y_pred = model.predict(X_test)\n",
    "\n",
    "# calculate the mean squared error\n",
    "mse = mean_squared_error(y_test, y_pred)\n"
   ]
  },
  {
   "cell_type": "code",
   "execution_count": null,
   "metadata": {},
   "outputs": [],
   "source": [
    "# create a linear model with statsmodels where a predictor is log_carat and response is log_price\n",
    "X = sm.add_constant(diamonds.log_carat)\n",
    "y = diamonds.log_price\n",
    "\n",
    "# split the data into training and test sets\n",
    "X_train, X_test, y_train, y_test = train_test_split(X, y, test_size=0.2, random_state=42)\n",
    "\n",
    "# create a linear regression model\n",
    "model = sm.OLS(y_train, X_train)\n",
    "\n",
    "# fit the model to the training data\n",
    "results = model.fit()\n",
    "\n",
    "# predict the response for the test data\n",
    "y_pred = results.predict(X_test)\n",
    "\n",
    "# calculate the mean squared error\n",
    "mse = mean_squared_error(y_test, y_pred)\n"
   ]
  },
  {
   "cell_type": "code",
   "execution_count": 9,
   "metadata": {},
   "outputs": [],
   "source": [
    "# create a design matrix with patsy for the log_carat predictor and the log_price response\n",
    "import patsy\n",
    "y, X = patsy.dmatrices('log_price ~ log_carat', data=diamonds, return_type='dataframe')\n",
    "\n",
    "import statsmodels.formula.api as smf\n",
    "# bulid a linear regression model with statsmodels formula api\n",
    "model = smf.ols('log_price ~ log_carat', data=diamonds)\n",
    "\n",
    "# fit the model to diamonds data\n",
    "results = model.fit()\n",
    "\n",
    "# add fitted values to diamonds data\n",
    "diamonds['fitted'] = results.fittedvalues\n",
    "\n",
    "# add residuals to diamonds data\n",
    "diamonds['residuals'] = results.resid\n",
    "\n",
    "# add predicted values to diamonds data\n",
    "diamonds['predicted'] = results.predict()\n"
   ]
  },
  {
   "cell_type": "code",
   "execution_count": 10,
   "metadata": {},
   "outputs": [
    {
     "data": {
      "text/plain": [
       "       carat        cut color clarity  depth  table  price    x    y    z  \\\n",
       "0       0.23      Ideal     E     SI2  61.50  55.00    326 3.95 3.98 2.43   \n",
       "1       0.21    Premium     E     SI1  59.80  61.00    326 3.89 3.84 2.31   \n",
       "2       0.23       Good     E     VS1  56.90  65.00    327 4.05 4.07 2.31   \n",
       "3       0.29    Premium     I     VS2  62.40  58.00    334 4.20 4.23 2.63   \n",
       "4       0.31       Good     J     SI2  63.30  58.00    335 4.34 4.35 2.75   \n",
       "...      ...        ...   ...     ...    ...    ...    ...  ...  ...  ...   \n",
       "53935   0.72      Ideal     D     SI1  60.80  57.00   2757 5.75 5.76 3.50   \n",
       "53936   0.72       Good     D     SI1  63.10  55.00   2757 5.69 5.75 3.61   \n",
       "53937   0.70  Very Good     D     SI1  62.80  60.00   2757 5.66 5.68 3.56   \n",
       "53938   0.86    Premium     H     SI2  61.00  58.00   2757 6.15 6.12 3.74   \n",
       "53939   0.75      Ideal     D     SI2  62.20  55.00   2757 5.83 5.87 3.64   \n",
       "\n",
       "       log_price  log_carat  fitted  residuals  predicted  \n",
       "0           5.79      -1.47    5.99      -0.20       5.99  \n",
       "1           5.79      -1.56    5.83      -0.05       5.83  \n",
       "2           5.79      -1.47    5.99      -0.20       5.99  \n",
       "3           5.81      -1.24    6.37      -0.56       6.37  \n",
       "4           5.81      -1.17    6.49      -0.67       6.49  \n",
       "...          ...        ...     ...        ...        ...  \n",
       "53935       7.92      -0.33    7.90       0.02       7.90  \n",
       "53936       7.92      -0.33    7.90       0.02       7.90  \n",
       "53937       7.92      -0.36    7.85       0.07       7.85  \n",
       "53938       7.92      -0.15    8.20      -0.27       8.20  \n",
       "53939       7.92      -0.29    7.97      -0.04       7.97  \n",
       "\n",
       "[53940 rows x 15 columns]"
      ]
     },
     "execution_count": 10,
     "metadata": {},
     "output_type": "execute_result"
    }
   ],
   "source": [
    "diamonds"
   ]
  },
  {
   "cell_type": "code",
   "execution_count": 6,
   "metadata": {},
   "outputs": [],
   "source": [
    "\n",
    "\n",
    "\n",
    "\n"
   ]
  },
  {
   "cell_type": "code",
   "execution_count": null,
   "metadata": {},
   "outputs": [],
   "source": []
  }
 ],
 "metadata": {
  "kernelspec": {
   "display_name": "envconda",
   "language": "python",
   "name": "python3"
  },
  "language_info": {
   "codemirror_mode": {
    "name": "ipython",
    "version": 3
   },
   "file_extension": ".py",
   "mimetype": "text/x-python",
   "name": "python",
   "nbconvert_exporter": "python",
   "pygments_lexer": "ipython3",
   "version": "3.11.0"
  },
  "orig_nbformat": 4
 },
 "nbformat": 4,
 "nbformat_minor": 2
}
