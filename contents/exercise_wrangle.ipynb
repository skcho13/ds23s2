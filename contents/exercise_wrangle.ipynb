{
 "cells": [
  {
   "cell_type": "raw",
   "metadata": {},
   "source": [
    "---\n",
    "title: Exercises\n",
    "subtitle: R for Data Science by Wickham & Grolemund\n",
    "date: Feb 11, 2023\n",
    "author: Sungkyun Cho\n",
    "---"
   ]
  },
  {
   "cell_type": "code",
   "execution_count": null,
   "metadata": {},
   "outputs": [],
   "source": [
    "#| code-summary: Load Packages\n",
    "#| code-fold: true\n",
    "\n",
    "# numerical calculation & data frames\n",
    "import numpy as np\n",
    "import pandas as pd\n",
    "\n",
    "# visualization\n",
    "import matplotlib.pyplot as plt\n",
    "import seaborn as sns\n",
    "import seaborn.objects as so\n",
    "\n",
    "# statistics\n",
    "import statsmodels.api as sm\n"
   ]
  },
  {
   "cell_type": "code",
   "execution_count": null,
   "metadata": {},
   "outputs": [],
   "source": [
    "#| echo: false\n",
    "from IPython.display import display, HTML\n",
    "HTML('<style>.output {flex-direction: row;}</style>')\n",
    "pd.options.display.notebook_repr_html = False"
   ]
  },
  {
   "cell_type": "code",
   "execution_count": null,
   "metadata": {},
   "outputs": [],
   "source": [
    "#| code-summary: Options\n",
    "#| code-fold: true\n",
    "\n",
    "# pandas options\n",
    "pd.set_option(\"mode.copy_on_write\", True)\n",
    "pd.options.display.precision = 2\n",
    "pd.options.display.float_format = '{:.2f}'.format  # pd.reset_option('display.float_format')\n",
    "pd.options.display.max_rows = 7\n",
    "\n",
    "# Numpy options\n",
    "np.set_printoptions(precision = 2, suppress=True)"
   ]
  },
  {
   "attachments": {},
   "cell_type": "markdown",
   "metadata": {},
   "source": [
    "# The nycflight13 datasets\n",
    "\n",
    "Combine 섹션에서 다른 `nycflight13`의 4개의 relational data를 이용하세요."
   ]
  },
  {
   "attachments": {},
   "cell_type": "markdown",
   "metadata": {},
   "source": [
    "1. Add the location of the origin *and* destination (i.e. the `lat` and `lon` in `airports`) to `flights`.\n",
    "2. Is there a relationship between the age of a plane and its delays?\n",
    "3. What weather conditions make it more likely to see a delay?\n",
    "4. `flights` 테이블에서 하루 평균 도착지연(`arr_delay`)가 가장 큰 10일에 해당하는 항공편을 선택\n",
    "5. `flights` 테이블의 도착지(`dest`)에 대한 공항정보가 `airports` 테이블에 없는 그러한 도착지(`dest`)를 구하면?\n",
    "6. Filter flights (항공편) in `flights` to only show flights with planes that have flown at least 100 flights.\n",
    "7. Find the 48 hours (over the course of the whole year) that have the worst (departure) delays.\n",
    "   - flights의 hour 열을 이용할 것\n",
    "8. You might expect that there’s an implicit relationship between plane and airline, because each plane is flown by a single airline. Confirm or reject this hypothesis using the tools you’ve learned above.\n",
    "\n",
    "   - 즉, 각 비행기는 특정 항공사에서만 운행되는가의 질문임. 2개 이상의 항공사에서 운항되는 비행기가 있는지 확인해 볼 것\n",
    "   - 그리고, 2개 이상의 항공사에서 운항되는 비행기들만 포함하고, 그 항공사들의 full name을 함께 포함하는 테이블을 만들어 볼 것"
   ]
  }
 ],
 "metadata": {
  "language_info": {
   "name": "python"
  },
  "orig_nbformat": 4
 },
 "nbformat": 4,
 "nbformat_minor": 2
}
